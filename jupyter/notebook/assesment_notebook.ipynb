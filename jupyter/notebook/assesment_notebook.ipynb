{
 "cells": [
  {
   "cell_type": "code",
   "execution_count": 65,
   "metadata": {},
   "outputs": [],
   "source": [
    "# adding required packages\n",
    "import findspark\n",
    "import pprint\n",
    "import matplotlib.pyplot as plt"
   ]
  },
  {
   "cell_type": "code",
   "execution_count": 33,
   "metadata": {},
   "outputs": [],
   "source": [
    "# Unittest related packages\n",
    "from unittest import mock"
   ]
  },
  {
   "cell_type": "code",
   "execution_count": 2,
   "metadata": {},
   "outputs": [],
   "source": [
    "findspark.init()"
   ]
  },
  {
   "cell_type": "code",
   "execution_count": 62,
   "metadata": {},
   "outputs": [],
   "source": [
    "#importing pyspark related package\n",
    "from pyspark.sql import SparkSession\n",
    "from pyspark.conf import SparkConf\n",
    "import pyspark.sql.functions as f"
   ]
  },
  {
   "cell_type": "code",
   "execution_count": 115,
   "metadata": {},
   "outputs": [],
   "source": [
    "# Local System Configuration\n",
    "# Total Memory = 16GB\n",
    "# Total Cores = 10\n",
    "\n",
    "def get_spark_conf():\n",
    "# Configure Spark settings\n",
    "    spark_conf = SparkConf()\n",
    "    spark_conf.set(\"spark.executor.instances\", \"4\") # 2 instance per noce\n",
    "\n",
    "    # Set the number of executor cores\n",
    "    spark_conf.set(\"spark.executor.cores\", \"2\")  # Use 2 cores per executor\n",
    "\n",
    "    # Set the executor memory\n",
    "    spark_conf.set(\"spark.executor.memory\", \"4g\")  # Use 4GB memory per executor\n",
    "\n",
    "    # Set the driver memory\n",
    "    spark_conf.set(\"spark.driver.memory\", \"2g\")    # Use 2GB memory for the driver\n",
    "    \n",
    "    return spark_conf"
   ]
  },
  {
   "cell_type": "code",
   "execution_count": 140,
   "metadata": {},
   "outputs": [],
   "source": [
    "def calculate_missing_value_counts(df, total_count):\n",
    "    missing_value_counts = df.select([(f.lit(total_count).cast('Integer') - f.count(col_name)).alias(col_name + \"_missing\") for col_name in df.columns])\n",
    "    return missing_value_counts"
   ]
  },
  {
   "cell_type": "code",
   "execution_count": 114,
   "metadata": {},
   "outputs": [],
   "source": [
    "# Calculate basic statistics for numerical columns\n",
    "def calculate_summary_stats(df, numerical_columns):\n",
    "    summary_stats = df.select(*numerical_columns).summary(\"mean\", \"stddev\", \"min\", \"max\")\n",
    "    return summary_stats"
   ]
  },
  {
   "cell_type": "code",
   "execution_count": 89,
   "metadata": {},
   "outputs": [],
   "source": [
    "def profile_categorical_column(df, col_name):\n",
    "    distinct_values = df.select(col_name).distinct().count()\n",
    "    top_values = df.groupBy(col_name).count().orderBy(f.col(\"count\").desc()).limit(5)\n",
    "    return distinct_values, top_values"
   ]
  },
  {
   "cell_type": "code",
   "execution_count": 107,
   "metadata": {},
   "outputs": [],
   "source": [
    "def get_categorical_column(df, threshold=0.3):\n",
    "    categorical_columns = []\n",
    "    col_type_dict = get_col_type_dict(df)\n",
    "    for col_name in col_type_dict['string']:\n",
    "        distinct_count = df.select(col_name).distinct().count()\n",
    "        if distinct_count < df.count() * threshold:  # Adjust threshold as needed\n",
    "            categorical_columns.append(col_name)\n",
    "\n",
    "    return categorical_columns"
   ]
  },
  {
   "cell_type": "code",
   "execution_count": 108,
   "metadata": {},
   "outputs": [],
   "source": [
    "# Listing the columns based on its type\n",
    "def get_col_type_dict(df):\n",
    "    col_type_dict = {}\n",
    "\n",
    "    for col_name, col_type in df.dtypes:\n",
    "        if col_type in col_type_dict.keys():\n",
    "            col_type_dict[col_type].append(col_name)\n",
    "        else:\n",
    "            col_type_dict[col_type] = [col_name]\n",
    "\n",
    "    return col_type_dict"
   ]
  },
  {
   "cell_type": "code",
   "execution_count": 146,
   "metadata": {},
   "outputs": [],
   "source": [
    "def data_profile(df):\n",
    "    \n",
    "    print(\"Starting Data Profiling\")\n",
    "    print(\"Schema of the dataset\")\n",
    "    \n",
    "    #getting the schema\n",
    "    df.printSchema()\n",
    "    \n",
    "    ## Display the first few rows of the DataFrame\n",
    "    display(df.limit(5))\n",
    "    \n",
    "    # Getting counts\n",
    "    total_count = df.count()\n",
    "    print(f\"Total Records: {total_count}\")\n",
    "    \n",
    "    \n",
    "    print(\"Getting missing value counts\")\n",
    "    missing_value_counts = calculate_missing_value_counts(df, total_count)\n",
    "    display(missing_value_counts)\n",
    "    \n",
    "    print(\"Getting numerical status\")\n",
    "    numerical_columns = [col_name for col_name, col_type in df.dtypes if col_type in [\"int\", \"double\", \"float\"]]\n",
    "    summary_stats = calculate_summary_stats(df, numerical_columns)\n",
    "    display(summary_stats)\n",
    "    \n",
    "    print(\"Getting categorical columns\")\n",
    "    categorical_columns = get_categorical_column(df, 0.01)\n",
    "    for col_name in categorical_columns:\n",
    "        distinct_values, top_values = profile_categorical_column(df, col_name)\n",
    "        print(f\"Column: {col_name}\")\n",
    "        print(f\"Distinct Values: {distinct_values}\")\n",
    "        print(\"Top Values:\")\n",
    "        top_values.show(100,False)"
   ]
  },
  {
   "cell_type": "code",
   "execution_count": 147,
   "metadata": {},
   "outputs": [],
   "source": [
    "def main():\n",
    "    \n",
    "    #setting spark conf before creating spark session\n",
    "    spark_conf = get_spark_conf()\n",
    "    \n",
    "    # Create a SparkSession with the configured settings\n",
    "    spark = SparkSession.builder.config(conf=spark_conf).appName(\"MySparkApp\").getOrCreate()\n",
    "    \n",
    "    # Listing all the spark conf\n",
    "    spark.sparkContext.getConf().getAll()\n",
    "    \n",
    "    # setting spark conf for analysis\n",
    "    spark.conf.set('spark.sql.repl.eagerEval.enabled',True)\n",
    "    \n",
    "    #reading dataset\n",
    "    df = spark.read.csv(\"/dataset/nyc-jobs.csv\", header=True, inferSchema=True)\n",
    "    \n",
    "    # reducing the shuffle partition to 4 \n",
    "    # reason 1 data size is very less\n",
    "    # reason 2 to use all the availble cores\n",
    "    spark.conf.set('spark.sql.shuffle.partitions',4)\n",
    "    \n",
    "    # Creating data profile\n",
    "    data_profile(df)\n",
    "    \n",
    "    "
   ]
  },
  {
   "cell_type": "code",
   "execution_count": 148,
   "metadata": {},
   "outputs": [
    {
     "name": "stdout",
     "output_type": "stream",
     "text": [
      "Starting Data Profiling\n",
      "Schema of the dataset\n",
      "root\n",
      " |-- Job ID: integer (nullable = true)\n",
      " |-- Agency: string (nullable = true)\n",
      " |-- Posting Type: string (nullable = true)\n",
      " |-- # Of Positions: integer (nullable = true)\n",
      " |-- Business Title: string (nullable = true)\n",
      " |-- Civil Service Title: string (nullable = true)\n",
      " |-- Title Code No: string (nullable = true)\n",
      " |-- Level: string (nullable = true)\n",
      " |-- Job Category: string (nullable = true)\n",
      " |-- Full-Time/Part-Time indicator: string (nullable = true)\n",
      " |-- Salary Range From: double (nullable = true)\n",
      " |-- Salary Range To: double (nullable = true)\n",
      " |-- Salary Frequency: string (nullable = true)\n",
      " |-- Work Location: string (nullable = true)\n",
      " |-- Division/Work Unit: string (nullable = true)\n",
      " |-- Job Description: string (nullable = true)\n",
      " |-- Minimum Qual Requirements: string (nullable = true)\n",
      " |-- Preferred Skills: string (nullable = true)\n",
      " |-- Additional Information: string (nullable = true)\n",
      " |-- To Apply: string (nullable = true)\n",
      " |-- Hours/Shift: string (nullable = true)\n",
      " |-- Work Location 1: string (nullable = true)\n",
      " |-- Recruitment Contact: string (nullable = true)\n",
      " |-- Residency Requirement: string (nullable = true)\n",
      " |-- Posting Date: string (nullable = true)\n",
      " |-- Post Until: string (nullable = true)\n",
      " |-- Posting Updated: string (nullable = true)\n",
      " |-- Process Date: string (nullable = true)\n",
      "\n"
     ]
    },
    {
     "data": {
      "text/html": [
       "<table border='1'>\n",
       "<tr><th>Job ID</th><th>Agency</th><th>Posting Type</th><th># Of Positions</th><th>Business Title</th><th>Civil Service Title</th><th>Title Code No</th><th>Level</th><th>Job Category</th><th>Full-Time/Part-Time indicator</th><th>Salary Range From</th><th>Salary Range To</th><th>Salary Frequency</th><th>Work Location</th><th>Division/Work Unit</th><th>Job Description</th><th>Minimum Qual Requirements</th><th>Preferred Skills</th><th>Additional Information</th><th>To Apply</th><th>Hours/Shift</th><th>Work Location 1</th><th>Recruitment Contact</th><th>Residency Requirement</th><th>Posting Date</th><th>Post Until</th><th>Posting Updated</th><th>Process Date</th></tr>\n",
       "<tr><td>389713</td><td>LAW DEPARTMENT</td><td>Internal</td><td>1</td><td>PARALEGAL AIDE - ...</td><td>PARALEGAL AIDE</td><td>30080</td><td>2</td><td>Constituent Servi...</td><td>F</td><td>41939.0</td><td>58688.0</td><td>Annual</td><td>350 Jay St, Brook...</td><td>Family Court: Bro...</td><td>The NYC Law Depar...</td><td>1. A baccalaureat...</td><td>Candidates MUST p...</td><td>Due to the curren...</td><td>Please click on t...</td><td>This is a full ti...</td><td>The position is l...</td><td>null</td><td>New York City res...</td><td>2019-04-08T00:00:...</td><td>null</td><td>2019-06-11T00:00:...</td><td>2019-12-17T00:00:...</td></tr>\n",
       "<tr><td>389806</td><td>DEPT OF INFO TECH...</td><td>Internal</td><td>1</td><td>Information Secur...</td><td>CERTIFIED IT ADMI...</td><td>13652</td><td>4</td><td>Technology, Data ...</td><td>F</td><td>96020.0</td><td>140000.0</td><td>Annual</td><td>2 Metro Tech</td><td>Information Security</td><td>WHO WE ARE:  The ...</td><td>&quot;Professional/ven...</td><td> all candidates m...</td><td> as determined by...</td><td>The preferred can...</td><td>Candidates must p...</td><td>*For DoITT Employ...</td><td>Day - Due to the ...</td><td>Brooklyn, NY</td><td>null</td><td>New York City Res...</td><td>2019-04-09T00:00:...</td><td>null</td></tr>\n",
       "<tr><td>389808</td><td>DEPT OF INFO TECH...</td><td>Internal</td><td>1</td><td>Information Secur...</td><td>IT SECURITY SPECI...</td><td>6798</td><td>0</td><td>Technology, Data ...</td><td>null</td><td>75000.0</td><td>140000.0</td><td>Annual</td><td>2 Metro Tech</td><td>Information Security</td><td>WHO WE ARE:  The ...</td><td>&quot;1. A baccalaurea...</td><td>The preferred can...</td><td>null</td><td>*For DoITT Employ...</td><td>Day - Due to the ...</td><td>Brooklyn, NY</td><td>null</td><td>New York City Res...</td><td>2019-04-09T00:00:...</td><td>null</td><td>2019-04-25T00:00:...</td><td>2019-12-17T00:00:...</td></tr>\n",
       "<tr><td>389883</td><td>DEPARTMENT OF CIT...</td><td>External</td><td>1</td><td>Human Capital Sum...</td><td>SUMMER COLLEGE IN...</td><td>10234</td><td>0</td><td>Administration &amp; ...</td><td>P</td><td>17.5</td><td>17.5</td><td>Hourly</td><td>120 Broadway, New...</td><td>Human Capital</td><td>Internship Progra...</td><td>As of June of the...</td><td>null</td><td>null</td><td>Click on â€œApply...</td><td>null</td><td>null</td><td>null</td><td>New York City res...</td><td>2019-04-09T00:00:...</td><td>null</td><td>2019-05-03T00:00:...</td><td>2019-12-17T00:00:...</td></tr>\n",
       "<tr><td>389883</td><td>DEPARTMENT OF CIT...</td><td>Internal</td><td>1</td><td>Human Capital Sum...</td><td>SUMMER COLLEGE IN...</td><td>10234</td><td>0</td><td>Administration &amp; ...</td><td>P</td><td>17.5</td><td>17.5</td><td>Hourly</td><td>120 Broadway, New...</td><td>Human Capital</td><td>Internship Progra...</td><td>As of June of the...</td><td>null</td><td>null</td><td>Click on â€œApply...</td><td>null</td><td>null</td><td>null</td><td>New York City res...</td><td>2019-04-09T00:00:...</td><td>null</td><td>2019-05-03T00:00:...</td><td>2019-12-17T00:00:...</td></tr>\n",
       "</table>\n"
      ],
      "text/plain": [
       "+------+--------------------+------------+--------------+--------------------+--------------------+-------------+-----+--------------------+-----------------------------+-----------------+---------------+----------------+--------------------+--------------------+--------------------+-------------------------+--------------------+----------------------+--------------------+--------------------+--------------------+--------------------+---------------------+--------------------+--------------------+--------------------+--------------------+\n",
       "|Job ID|              Agency|Posting Type|# Of Positions|      Business Title| Civil Service Title|Title Code No|Level|        Job Category|Full-Time/Part-Time indicator|Salary Range From|Salary Range To|Salary Frequency|       Work Location|  Division/Work Unit|     Job Description|Minimum Qual Requirements|    Preferred Skills|Additional Information|            To Apply|         Hours/Shift|     Work Location 1| Recruitment Contact|Residency Requirement|        Posting Date|          Post Until|     Posting Updated|        Process Date|\n",
       "+------+--------------------+------------+--------------+--------------------+--------------------+-------------+-----+--------------------+-----------------------------+-----------------+---------------+----------------+--------------------+--------------------+--------------------+-------------------------+--------------------+----------------------+--------------------+--------------------+--------------------+--------------------+---------------------+--------------------+--------------------+--------------------+--------------------+\n",
       "|389713|      LAW DEPARTMENT|    Internal|             1|PARALEGAL AIDE - ...|      PARALEGAL AIDE|        30080|    2|Constituent Servi...|                            F|          41939.0|        58688.0|          Annual|350 Jay St, Brook...|Family Court: Bro...|The NYC Law Depar...|     1. A baccalaureat...|Candidates MUST p...|  Due to the curren...|Please click on t...|This is a full ti...|The position is l...|                null| New York City res...|2019-04-08T00:00:...|                null|2019-06-11T00:00:...|2019-12-17T00:00:...|\n",
       "|389806|DEPT OF INFO TECH...|    Internal|             1|Information Secur...|CERTIFIED IT ADMI...|        13652|    4|Technology, Data ...|                            F|          96020.0|       140000.0|          Annual|        2 Metro Tech|Information Security|WHO WE ARE:  The ...|     \"Professional/ven...| all candidates m...|   as determined by...|The preferred can...|Candidates must p...|*For DoITT Employ...|Day - Due to the ...|         Brooklyn, NY|                null|New York City Res...|2019-04-09T00:00:...|                null|\n",
       "|389808|DEPT OF INFO TECH...|    Internal|             1|Information Secur...|IT SECURITY SPECI...|         6798|    0|Technology, Data ...|                         null|          75000.0|       140000.0|          Annual|        2 Metro Tech|Information Security|WHO WE ARE:  The ...|     \"1. A baccalaurea...|The preferred can...|                  null|*For DoITT Employ...|Day - Due to the ...|        Brooklyn, NY|                null| New York City Res...|2019-04-09T00:00:...|                null|2019-04-25T00:00:...|2019-12-17T00:00:...|\n",
       "|389883|DEPARTMENT OF CIT...|    External|             1|Human Capital Sum...|SUMMER COLLEGE IN...|        10234|    0|Administration & ...|                            P|             17.5|           17.5|          Hourly|120 Broadway, New...|       Human Capital|Internship Progra...|     As of June of the...|                null|                  null|Click on â€œApply...|                null|                null|                null| New York City res...|2019-04-09T00:00:...|                null|2019-05-03T00:00:...|2019-12-17T00:00:...|\n",
       "|389883|DEPARTMENT OF CIT...|    Internal|             1|Human Capital Sum...|SUMMER COLLEGE IN...|        10234|    0|Administration & ...|                            P|             17.5|           17.5|          Hourly|120 Broadway, New...|       Human Capital|Internship Progra...|     As of June of the...|                null|                  null|Click on â€œApply...|                null|                null|                null| New York City res...|2019-04-09T00:00:...|                null|2019-05-03T00:00:...|2019-12-17T00:00:...|\n",
       "+------+--------------------+------------+--------------+--------------------+--------------------+-------------+-----+--------------------+-----------------------------+-----------------+---------------+----------------+--------------------+--------------------+--------------------+-------------------------+--------------------+----------------------+--------------------+--------------------+--------------------+--------------------+---------------------+--------------------+--------------------+--------------------+--------------------+"
      ]
     },
     "metadata": {},
     "output_type": "display_data"
    },
    {
     "name": "stdout",
     "output_type": "stream",
     "text": [
      "Total Records: 2946\n",
      "Getting missing value counts\n"
     ]
    },
    {
     "data": {
      "text/html": [
       "<table border='1'>\n",
       "<tr><th>Job ID_missing</th><th>Agency_missing</th><th>Posting Type_missing</th><th># Of Positions_missing</th><th>Business Title_missing</th><th>Civil Service Title_missing</th><th>Title Code No_missing</th><th>Level_missing</th><th>Job Category_missing</th><th>Full-Time/Part-Time indicator_missing</th><th>Salary Range From_missing</th><th>Salary Range To_missing</th><th>Salary Frequency_missing</th><th>Work Location_missing</th><th>Division/Work Unit_missing</th><th>Job Description_missing</th><th>Minimum Qual Requirements_missing</th><th>Preferred Skills_missing</th><th>Additional Information_missing</th><th>To Apply_missing</th><th>Hours/Shift_missing</th><th>Work Location 1_missing</th><th>Recruitment Contact_missing</th><th>Residency Requirement_missing</th><th>Posting Date_missing</th><th>Post Until_missing</th><th>Posting Updated_missing</th><th>Process Date_missing</th></tr>\n",
       "<tr><td>0</td><td>0</td><td>0</td><td>0</td><td>0</td><td>0</td><td>0</td><td>0</td><td>2</td><td>195</td><td>0</td><td>0</td><td>0</td><td>0</td><td>0</td><td>0</td><td>18</td><td>259</td><td>563</td><td>180</td><td>1062</td><td>1138</td><td>1763</td><td>678</td><td>517</td><td>1499</td><td>508</td><td>425</td></tr>\n",
       "</table>\n"
      ],
      "text/plain": [
       "+--------------+--------------+--------------------+----------------------+----------------------+---------------------------+---------------------+-------------+--------------------+-------------------------------------+-------------------------+-----------------------+------------------------+---------------------+--------------------------+-----------------------+---------------------------------+------------------------+------------------------------+----------------+-------------------+-----------------------+---------------------------+-----------------------------+--------------------+------------------+-----------------------+--------------------+\n",
       "|Job ID_missing|Agency_missing|Posting Type_missing|# Of Positions_missing|Business Title_missing|Civil Service Title_missing|Title Code No_missing|Level_missing|Job Category_missing|Full-Time/Part-Time indicator_missing|Salary Range From_missing|Salary Range To_missing|Salary Frequency_missing|Work Location_missing|Division/Work Unit_missing|Job Description_missing|Minimum Qual Requirements_missing|Preferred Skills_missing|Additional Information_missing|To Apply_missing|Hours/Shift_missing|Work Location 1_missing|Recruitment Contact_missing|Residency Requirement_missing|Posting Date_missing|Post Until_missing|Posting Updated_missing|Process Date_missing|\n",
       "+--------------+--------------+--------------------+----------------------+----------------------+---------------------------+---------------------+-------------+--------------------+-------------------------------------+-------------------------+-----------------------+------------------------+---------------------+--------------------------+-----------------------+---------------------------------+------------------------+------------------------------+----------------+-------------------+-----------------------+---------------------------+-----------------------------+--------------------+------------------+-----------------------+--------------------+\n",
       "|             0|             0|                   0|                     0|                     0|                          0|                    0|            0|                   2|                                  195|                        0|                      0|                       0|                    0|                         0|                      0|                               18|                     259|                           563|             180|               1062|                   1138|                       1763|                          678|                 517|              1499|                    508|                 425|\n",
       "+--------------+--------------+--------------------+----------------------+----------------------+---------------------------+---------------------+-------------+--------------------+-------------------------------------+-------------------------+-----------------------+------------------------+---------------------+--------------------------+-----------------------+---------------------------------+------------------------+------------------------------+----------------+-------------------+-----------------------+---------------------------+-----------------------------+--------------------+------------------+-----------------------+--------------------+"
      ]
     },
     "metadata": {},
     "output_type": "display_data"
    },
    {
     "name": "stdout",
     "output_type": "stream",
     "text": [
      "Getting numerical status\n"
     ]
    },
    {
     "data": {
      "text/html": [
       "<table border='1'>\n",
       "<tr><th>summary</th><th>Job ID</th><th># Of Positions</th><th>Salary Range From</th><th>Salary Range To</th></tr>\n",
       "<tr><td>mean</td><td>384821.5631364562</td><td>2.4959266802443993</td><td>58904.139793856084</td><td>85535.71162739304</td></tr>\n",
       "<tr><td>stddev</td><td>53075.33897715395</td><td>9.281312826466838</td><td>26986.575935791363</td><td>42871.31345366745</td></tr>\n",
       "<tr><td>min</td><td>87990</td><td>1</td><td>0.0</td><td>10.36</td></tr>\n",
       "<tr><td>max</td><td>426238</td><td>200</td><td>218587.0</td><td>234402.0</td></tr>\n",
       "</table>\n"
      ],
      "text/plain": [
       "+-------+-----------------+------------------+------------------+-----------------+\n",
       "|summary|           Job ID|    # Of Positions| Salary Range From|  Salary Range To|\n",
       "+-------+-----------------+------------------+------------------+-----------------+\n",
       "|   mean|384821.5631364562|2.4959266802443993|58904.139793856084|85535.71162739304|\n",
       "| stddev|53075.33897715395| 9.281312826466838|26986.575935791363|42871.31345366745|\n",
       "|    min|            87990|                 1|               0.0|            10.36|\n",
       "|    max|           426238|               200|          218587.0|         234402.0|\n",
       "+-------+-----------------+------------------+------------------+-----------------+"
      ]
     },
     "metadata": {},
     "output_type": "display_data"
    },
    {
     "name": "stdout",
     "output_type": "stream",
     "text": [
      "Getting categorical columns\n",
      "Column: Posting Type\n",
      "Distinct Values: 2\n",
      "Top Values:\n",
      "+------------+-----+\n",
      "|Posting Type|count|\n",
      "+------------+-----+\n",
      "|Internal    |1684 |\n",
      "|External    |1262 |\n",
      "+------------+-----+\n",
      "\n",
      "Column: Level\n",
      "Distinct Values: 14\n",
      "Top Values:\n",
      "+-----+-----+\n",
      "|Level|count|\n",
      "+-----+-----+\n",
      "|0    |1112 |\n",
      "|1    |521  |\n",
      "|2    |505  |\n",
      "|3    |299  |\n",
      "|M1   |161  |\n",
      "+-----+-----+\n",
      "\n",
      "Column: Full-Time/Part-Time indicator\n",
      "Distinct Values: 3\n",
      "Top Values:\n",
      "+-----------------------------+-----+\n",
      "|Full-Time/Part-Time indicator|count|\n",
      "+-----------------------------+-----+\n",
      "|F                            |2625 |\n",
      "|null                         |195  |\n",
      "|P                            |126  |\n",
      "+-----------------------------+-----+\n",
      "\n",
      "Column: Salary Frequency\n",
      "Distinct Values: 3\n",
      "Top Values:\n",
      "+----------------+-----+\n",
      "|Salary Frequency|count|\n",
      "+----------------+-----+\n",
      "|Annual          |2712 |\n",
      "|Hourly          |195  |\n",
      "|Daily           |39   |\n",
      "+----------------+-----+\n",
      "\n"
     ]
    }
   ],
   "source": [
    "main()"
   ]
  },
  {
   "cell_type": "code",
   "execution_count": null,
   "metadata": {},
   "outputs": [],
   "source": []
  }
 ],
 "metadata": {
  "kernelspec": {
   "display_name": "Python 3",
   "language": "python",
   "name": "python3"
  },
  "language_info": {
   "codemirror_mode": {
    "name": "ipython",
    "version": 3
   },
   "file_extension": ".py",
   "mimetype": "text/x-python",
   "name": "python",
   "nbconvert_exporter": "python",
   "pygments_lexer": "ipython3",
   "version": "3.7.3"
  }
 },
 "nbformat": 4,
 "nbformat_minor": 4
}
