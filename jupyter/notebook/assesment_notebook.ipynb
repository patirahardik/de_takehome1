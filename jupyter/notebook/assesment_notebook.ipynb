{
 "cells": [
  {
   "cell_type": "code",
   "execution_count": 24,
   "metadata": {},
   "outputs": [],
   "source": [
    "# adding required packages\n",
    "import findspark\n",
    "import pprint\n",
    "from pyspark.sql import SparkSession\n",
    "from pyspark.conf import SparkConf"
   ]
  },
  {
   "cell_type": "code",
   "execution_count": 25,
   "metadata": {},
   "outputs": [],
   "source": [
    "findspark.init()"
   ]
  },
  {
   "cell_type": "code",
   "execution_count": 26,
   "metadata": {},
   "outputs": [
    {
     "data": {
      "text/plain": [
       "<pyspark.conf.SparkConf at 0x404ab07438>"
      ]
     },
     "execution_count": 26,
     "metadata": {},
     "output_type": "execute_result"
    }
   ],
   "source": [
    "# Local System Configuration\n",
    "# Total Memory = 16GB\n",
    "# Total Cores = 10\n",
    "\n",
    "# Configure Spark settings\n",
    "spark_conf = SparkConf()\n",
    "spark_conf.set(\"spark.executor.instances\", \"4\") # 2 instance per noce\n",
    "\n",
    "# Set the number of executor cores\n",
    "spark_conf.set(\"spark.executor.cores\", \"2\")  # Use 2 cores per executor\n",
    "\n",
    "# Set the executor memory\n",
    "spark_conf.set(\"spark.executor.memory\", \"4g\")  # Use 4GB memory per executor\n",
    "\n",
    "# Set the driver memory\n",
    "spark_conf.set(\"spark.driver.memory\", \"2g\")    # Use 2GB memory for the driver"
   ]
  },
  {
   "cell_type": "code",
   "execution_count": 27,
   "metadata": {},
   "outputs": [],
   "source": [
    "\n",
    "\n",
    "# Create a SparkSession with the configured settings\n",
    "spark = SparkSession.builder.config(conf=spark_conf).appName(\"MySparkApp\").getOrCreate()\n"
   ]
  },
  {
   "cell_type": "markdown",
   "metadata": {},
   "source": [
    "### Getting up current config"
   ]
  },
  {
   "cell_type": "code",
   "execution_count": 28,
   "metadata": {},
   "outputs": [
    {
     "data": {
      "text/plain": [
       "[('spark.executor.instances', '4'),\n",
       " ('spark.master', 'spark://master:7077'),\n",
       " ('spark.executor.memory', '4g'),\n",
       " ('spark.executor.id', 'driver'),\n",
       " ('spark.driver.host', 'b3ec55ddebbb'),\n",
       " ('spark.executor.cores', '2'),\n",
       " ('spark.rdd.compress', 'True'),\n",
       " ('spark.app.id', 'app-20230824161737-0000'),\n",
       " ('spark.driver.memory', '2g'),\n",
       " ('spark.serializer.objectStreamReset', '100'),\n",
       " ('spark.app.name', 'MySparkApp'),\n",
       " ('spark.submit.deployMode', 'client'),\n",
       " ('spark.driver.port', '44173'),\n",
       " ('spark.ui.showConsoleProgress', 'true')]"
      ]
     },
     "execution_count": 28,
     "metadata": {},
     "output_type": "execute_result"
    }
   ],
   "source": [
    "spark.sparkContext.getConf().getAll()"
   ]
  },
  {
   "cell_type": "code",
   "execution_count": 29,
   "metadata": {},
   "outputs": [],
   "source": [
    "# setting spark conf for analysis\n",
    "spark.conf.set('spark.sql.repl.eagerEval.enabled',True)"
   ]
  },
  {
   "cell_type": "code",
   "execution_count": null,
   "metadata": {},
   "outputs": [],
   "source": []
  },
  {
   "cell_type": "code",
   "execution_count": null,
   "metadata": {},
   "outputs": [],
   "source": []
  },
  {
   "cell_type": "markdown",
   "metadata": {},
   "source": [
    "### Read data"
   ]
  },
  {
   "cell_type": "code",
   "execution_count": 30,
   "metadata": {},
   "outputs": [],
   "source": [
    "df = spark.read.csv(\"/dataset/nyc-jobs.csv\", header=True, inferSchema=True)"
   ]
  },
  {
   "cell_type": "code",
   "execution_count": 31,
   "metadata": {},
   "outputs": [
    {
     "data": {
      "text/html": [
       "<table border='1'>\n",
       "<tr><th>Job ID</th><th>Agency</th><th>Posting Type</th><th># Of Positions</th><th>Business Title</th><th>Civil Service Title</th><th>Title Code No</th><th>Level</th><th>Job Category</th><th>Full-Time/Part-Time indicator</th><th>Salary Range From</th><th>Salary Range To</th><th>Salary Frequency</th><th>Work Location</th><th>Division/Work Unit</th><th>Job Description</th><th>Minimum Qual Requirements</th><th>Preferred Skills</th><th>Additional Information</th><th>To Apply</th><th>Hours/Shift</th><th>Work Location 1</th><th>Recruitment Contact</th><th>Residency Requirement</th><th>Posting Date</th><th>Post Until</th><th>Posting Updated</th><th>Process Date</th></tr>\n",
       "<tr><td>87990</td><td>DEPARTMENT OF BUS...</td><td>Internal</td><td>1</td><td>Account Manager</td><td>CONTRACT REVIEWER...</td><td>40563</td><td>1</td><td>null</td><td>null</td><td>42405.0</td><td>65485.0</td><td>Annual</td><td>110 William St. N Y</td><td>Strategy &amp; Analytics</td><td>Division of Econo...</td><td>&quot;1.\tA baccalaurea...</td><td> all candidates m...</td><td>â€¢\tExcellent int...</td><td>Salary range for ...</td><td>null</td><td>null</td><td>null</td><td>null</td><td>New York City res...</td><td>2011-06-24T00:00:...</td><td>null</td><td>2011-06-24T00:00:...</td></tr>\n",
       "<tr><td>97899</td><td>DEPARTMENT OF BUS...</td><td>Internal</td><td>1</td><td>EXECUTIVE DIRECTO...</td><td>ADMINISTRATIVE BU...</td><td>10009</td><td>M3</td><td>null</td><td>F</td><td>60740.0</td><td>162014.0</td><td>Annual</td><td>110 William St. N Y</td><td>Tech Talent Pipeline</td><td>The New York City...</td><td>&quot;1. A baccalaurea...</td><td>null</td><td>null</td><td>In addition to ap...</td><td>null</td><td>null</td><td>null</td><td>New York City res...</td><td>2012-01-26T00:00:...</td><td>null</td><td>2012-01-26T00:00:...</td><td>2019-12-17T00:00:...</td></tr>\n",
       "<tr><td>132292</td><td>NYC HOUSING AUTHO...</td><td>External</td><td>52</td><td>Maintenance Worke...</td><td>MAINTENANCE WORKER</td><td>90698</td><td>0</td><td>Maintenance &amp; Ope...</td><td>F</td><td>51907.68</td><td>54580.32</td><td>Annual</td><td>Heating Mgt-Opera...</td><td>Management Servic...</td><td>Under direct supe...</td><td>&quot;1. Three years o...</td><td> mechanical</td><td> or construction ...</td><td> may be substitut...</td><td> all candidates m...</td><td>1.  A High School...</td><td>1.  A Motor Vehic...</td><td>&quot;Click the &quot;&quot;Appl...</td><td>null</td><td>null</td><td>null</td><td>NYCHA has no resi...</td></tr>\n",
       "<tr><td>132292</td><td>NYC HOUSING AUTHO...</td><td>Internal</td><td>52</td><td>Maintenance Worke...</td><td>MAINTENANCE WORKER</td><td>90698</td><td>0</td><td>Maintenance &amp; Ope...</td><td>F</td><td>51907.68</td><td>54580.32</td><td>Annual</td><td>Heating Mgt-Opera...</td><td>Management Servic...</td><td>Under direct supe...</td><td>&quot;1. Three years o...</td><td> mechanical</td><td> or construction ...</td><td> may be substitut...</td><td> all candidates m...</td><td>1.  A High School...</td><td>1.  A Motor Vehic...</td><td>&quot;Click the &quot;&quot;Appl...</td><td>null</td><td>null</td><td>null</td><td>NYCHA has no resi...</td></tr>\n",
       "<tr><td>133921</td><td>NYC HOUSING AUTHO...</td><td>Internal</td><td>50</td><td>Temporary Painter</td><td>PAINTER</td><td>91830</td><td>0</td><td>Maintenance &amp; Ope...</td><td>F</td><td>35.0</td><td>35.0</td><td>Hourly</td><td>DMP-Contract &amp; An...</td><td>Dept of Managemen...</td><td>Responsibilities ...</td><td>1. Five years of ...</td><td>null</td><td>SPECIAL NOTE:    ...</td><td>&quot;Click the &quot;&quot;Appl...</td><td>null</td><td>null</td><td>null</td><td>NYCHA has no resi...</td><td>2014-01-09T00:00:...</td><td>null</td><td>2014-01-08T00:00:...</td><td>2019-12-17T00:00:...</td></tr>\n",
       "<tr><td>133921</td><td>NYC HOUSING AUTHO...</td><td>External</td><td>50</td><td>Temporary Painter</td><td>PAINTER</td><td>91830</td><td>0</td><td>Maintenance &amp; Ope...</td><td>F</td><td>35.0</td><td>35.0</td><td>Hourly</td><td>DMP-Contract &amp; An...</td><td>Dept of Managemen...</td><td>Responsibilities ...</td><td>1. Five years of ...</td><td>null</td><td>SPECIAL NOTE:    ...</td><td>&quot;Click the &quot;&quot;Appl...</td><td>null</td><td>null</td><td>null</td><td>NYCHA has no resi...</td><td>2014-01-09T00:00:...</td><td>null</td><td>2014-01-08T00:00:...</td><td>2019-12-17T00:00:...</td></tr>\n",
       "<tr><td>137433</td><td>DEPT OF HEALTH/ME...</td><td>Internal</td><td>1</td><td>Contract Analyst</td><td>PROCUREMENT ANALYST</td><td>12158</td><td>3</td><td>Finance, Accounti...</td><td>F</td><td>50598.0</td><td>85053.0</td><td>Annual</td><td>42-09 28th Street</td><td>HIV Administration</td><td>** OPEN TO PERMAN...</td><td>&quot;1. A baccalaurea...</td><td> individuals must...</td><td> after meeting th...</td><td> either one year ...</td><td> at least one yea...</td><td> or spent perform...</td><td>Strong analytical...</td><td>null</td><td>Apply online with...</td><td>null</td><td>42-09 28th Street...</td><td>null</td></tr>\n",
       "<tr><td>138531</td><td>DEPT OF ENVIRONME...</td><td>Internal</td><td>1</td><td>Associate Chemist</td><td>ASSOCIATE CHEMIST</td><td>21822</td><td>2</td><td>Health Public Saf...</td><td>F</td><td>50623.0</td><td>75083.0</td><td>Annual</td><td>96-05 Horace Hard...</td><td>DWOC Labs-Lefrak</td><td>Working in the Di...</td><td>Qualification Req...</td><td>In order to apply...</td><td>null</td><td>&quot;Click the &quot;&quot;Appl...</td><td>35 Hours per week...</td><td>96-05 Horace Hard...</td><td>null</td><td>New York City res...</td><td>2013-12-20T00:00:...</td><td>null</td><td>2014-07-25T00:00:...</td><td>2019-12-17T00:00:...</td></tr>\n",
       "<tr><td>151131</td><td>NYC HOUSING AUTHO...</td><td>External</td><td>1</td><td>Cost Estimating M...</td><td>ADMINISTRATIVE ST...</td><td>1002D</td><td>0</td><td>Engineering, Arch...</td><td>F</td><td>90000.0</td><td>110000.0</td><td>Annual</td><td>CP Cap Plan-Techn...</td><td>Capital Planning ...</td><td>Reporting to the ...</td><td>&quot;1. A master&#x27;s de...</td><td> including the 18...</td><td> managerial</td><td> administrative o...</td><td> as described in ...</td><td>1.  Five years of...</td><td>SPECIAL INSTRUCTI...</td><td>&quot;Click the &quot;&quot;Appl...</td><td>null</td><td>null</td><td>null</td><td>NYCHA has no resi...</td></tr>\n",
       "<tr><td>152738</td><td>LAW DEPARTMENT</td><td>Internal</td><td>1</td><td>Office Manager</td><td>CLERICAL ASSOCIATE</td><td>10251</td><td>3</td><td>Clerical &amp; Admini...</td><td>F</td><td>30683.0</td><td>49707.0</td><td>Annual</td><td>100 Church St., N.Y.</td><td>Appeals</td><td>Performs essentia...</td><td>Qualification Req...</td><td>Experience with L...</td><td>Candidates must b...</td><td>&quot;Please click the...</td><td>Monday through Fr...</td><td>null</td><td>null</td><td>New York City res...</td><td>2014-06-26T00:00:...</td><td>null</td><td>2014-06-26T00:00:...</td><td>2019-12-17T00:00:...</td></tr>\n",
       "</table>\n"
      ],
      "text/plain": [
       "+------+--------------------+------------+--------------+--------------------+--------------------+-------------+-----+--------------------+-----------------------------+-----------------+---------------+----------------+--------------------+--------------------+--------------------+-------------------------+--------------------+----------------------+--------------------+--------------------+--------------------+--------------------+---------------------+--------------------+--------------------+--------------------+--------------------+\n",
       "|Job ID|              Agency|Posting Type|# Of Positions|      Business Title| Civil Service Title|Title Code No|Level|        Job Category|Full-Time/Part-Time indicator|Salary Range From|Salary Range To|Salary Frequency|       Work Location|  Division/Work Unit|     Job Description|Minimum Qual Requirements|    Preferred Skills|Additional Information|            To Apply|         Hours/Shift|     Work Location 1| Recruitment Contact|Residency Requirement|        Posting Date|          Post Until|     Posting Updated|        Process Date|\n",
       "+------+--------------------+------------+--------------+--------------------+--------------------+-------------+-----+--------------------+-----------------------------+-----------------+---------------+----------------+--------------------+--------------------+--------------------+-------------------------+--------------------+----------------------+--------------------+--------------------+--------------------+--------------------+---------------------+--------------------+--------------------+--------------------+--------------------+\n",
       "|381492|NYC HOUSING AUTHO...|    Internal|             2| Community Associate| COMMUNITY ASSOCIATE|        56057|    0|Policy, Research ...|                         null|          52000.0|        61936.0|          Annual|Visual Assessment...|Lead Hazard Contr...|The New York City...|     \"Qualification Re...|1.  Experience wi...|  NYCHA employees a...|\"Click the \"\"Appl...|                null|                null|                null| NYCHA has no resi...|2019-05-10T00:00:...|                null|2019-07-05T00:00:...|2019-12-17T00:00:...|\n",
       "|381492|NYC HOUSING AUTHO...|    External|             2| Community Associate| COMMUNITY ASSOCIATE|        56057|    0|Policy, Research ...|                         null|          52000.0|        61936.0|          Annual|Visual Assessment...|Lead Hazard Contr...|The New York City...|     \"Qualification Re...|1.  Experience wi...|  NYCHA employees a...|\"Click the \"\"Appl...|                null|                null|                null| NYCHA has no resi...|2019-05-10T00:00:...|                null|2019-07-05T00:00:...|2019-12-17T00:00:...|\n",
       "|381752|DEPT OF ENVIRONME...|    Internal|             1|Associate Public ...|ASSOCIATE PUBLIC ...|        31220|    1|Health Public Saf...|                            F|          58677.0|        91199.0|          Annual|96-05 Horace Hard...|Environmental Hea...|The NYC Departmen...|     \"1. A baccalaurea...| all candidates m...|   including at lea...| to assure compli...| all candidates m...|â€¢ Excellent int...|Appointments are ...| \"Click \"\"Apply No...|40 hours per week...|Owls Head Wastewa...|                null|New York City res...|\n",
       "|381752|DEPT OF ENVIRONME...|    External|             1|Associate Public ...|ASSOCIATE PUBLIC ...|        31220|    1|Health Public Saf...|                            F|          58677.0|        91199.0|          Annual|96-05 Horace Hard...|Environmental Hea...|The NYC Departmen...|     \"1. A baccalaurea...| all candidates m...|   including at lea...| to assure compli...| all candidates m...|â€¢ Excellent int...|Appointments are ...| \"Click \"\"Apply No...|40 hours per week...|Owls Head Wastewa...|                null|New York City res...|\n",
       "|381848|NYC HOUSING AUTHO...|    Internal|             1|Director, Lead Ha...|DIRECTOR OF CONTR...|        80287|   M4|Public Safety, In...|                         null|          78574.0|       202744.0|          Annual|Lead Hazard - Off...|Lead Hazard Contr...|Please read this ...|     A Baccalaureate d...|â€¢ Integrity â€“...|  NYCHA employees a...|\"Click the \"\"Appl...|                null|                null|                null| NYCHA has no resi...|2019-01-29T00:00:...|                null|2019-04-24T00:00:...|2019-12-17T00:00:...|\n",
       "|381848|NYC HOUSING AUTHO...|    External|             1|Director, Lead Ha...|DIRECTOR OF CONTR...|        80287|   M4|Public Safety, In...|                         null|          78574.0|       202744.0|          Annual|Lead Hazard - Off...|Lead Hazard Contr...|Please read this ...|     A Baccalaureate d...|â€¢ Integrity â€“...|  NYCHA employees a...|\"Click the \"\"Appl...|                null|                null|                null| NYCHA has no resi...|2019-01-29T00:00:...|                null|2019-04-24T00:00:...|2019-12-17T00:00:...|\n",
       "|381982|ADMIN FOR CHILDRE...|    Internal|             1|Director of Security|DIRECTOR OF SECUR...|        70822|   M1|Public Safety, In...|                            F|          56990.0|       115000.0|          Annual|150 William Stree...|  Facilities (Admin)|The New York City...|     \"1. A baccalaurea...| managerial or ex...|   or in supervisin...| all candidates m...| managerial or ex...| or in supervisin...|The preferred can...| Section 424-A of ...|\"Click on the \"\"A...|                null|                null|                null|\n",
       "|381982|ADMIN FOR CHILDRE...|    External|             1|Director of Security|DIRECTOR OF SECUR...|        70822|   M1|Public Safety, In...|                            F|          56990.0|       115000.0|          Annual|150 William Stree...|  Facilities (Admin)|The New York City...|     \"1. A baccalaurea...| managerial or ex...|   or in supervisin...| all candidates m...| managerial or ex...| or in supervisin...|The preferred can...| Section 424-A of ...|\"Click on the \"\"A...|                null|                null|                null|\n",
       "|382050|DEPT OF ENVIRONME...|    Internal|            10|  City Seasonal Aide|  CITY SEASONAL AIDE|        91406|    0|Administration & ...|                            F|             15.0|          18.77|          Hourly|59-17 Junction Bl...|Dept of Environme...|The NYC Departmen...|     While there are n...|1.\tOffice Automat...|  Appointments are ...|To apply click th...|        35 hour week|59-17 Junction Bl...|                null| New York City res...|2019-02-08T00:00:...|                null|2019-12-11T00:00:...|2019-12-17T00:00:...|\n",
       "|382050|DEPT OF ENVIRONME...|    External|            10|  City Seasonal Aide|  CITY SEASONAL AIDE|        91406|    0|Administration & ...|                            F|             15.0|          18.77|          Hourly|59-17 Junction Bl...|Dept of Environme...|The NYC Departmen...|     While there are n...|1.\tOffice Automat...|  Appointments are ...|To apply click th...|        35 hour week|59-17 Junction Bl...|                null| New York City res...|2019-02-08T00:00:...|                null|2019-12-11T00:00:...|2019-12-17T00:00:...|\n",
       "+------+--------------------+------------+--------------+--------------------+--------------------+-------------+-----+--------------------+-----------------------------+-----------------+---------------+----------------+--------------------+--------------------+--------------------+-------------------------+--------------------+----------------------+--------------------+--------------------+--------------------+--------------------+---------------------+--------------------+--------------------+--------------------+--------------------+"
      ]
     },
     "metadata": {},
     "output_type": "display_data"
    }
   ],
   "source": [
    "#sample records\n",
    "display(df.limit(10))"
   ]
  },
  {
   "cell_type": "markdown",
   "metadata": {},
   "source": [
    "### Data Exploration"
   ]
  },
  {
   "cell_type": "code",
   "execution_count": 32,
   "metadata": {},
   "outputs": [
    {
     "name": "stdout",
     "output_type": "stream",
     "text": [
      "root\n",
      " |-- Job ID: integer (nullable = true)\n",
      " |-- Agency: string (nullable = true)\n",
      " |-- Posting Type: string (nullable = true)\n",
      " |-- # Of Positions: integer (nullable = true)\n",
      " |-- Business Title: string (nullable = true)\n",
      " |-- Civil Service Title: string (nullable = true)\n",
      " |-- Title Code No: string (nullable = true)\n",
      " |-- Level: string (nullable = true)\n",
      " |-- Job Category: string (nullable = true)\n",
      " |-- Full-Time/Part-Time indicator: string (nullable = true)\n",
      " |-- Salary Range From: double (nullable = true)\n",
      " |-- Salary Range To: double (nullable = true)\n",
      " |-- Salary Frequency: string (nullable = true)\n",
      " |-- Work Location: string (nullable = true)\n",
      " |-- Division/Work Unit: string (nullable = true)\n",
      " |-- Job Description: string (nullable = true)\n",
      " |-- Minimum Qual Requirements: string (nullable = true)\n",
      " |-- Preferred Skills: string (nullable = true)\n",
      " |-- Additional Information: string (nullable = true)\n",
      " |-- To Apply: string (nullable = true)\n",
      " |-- Hours/Shift: string (nullable = true)\n",
      " |-- Work Location 1: string (nullable = true)\n",
      " |-- Recruitment Contact: string (nullable = true)\n",
      " |-- Residency Requirement: string (nullable = true)\n",
      " |-- Posting Date: string (nullable = true)\n",
      " |-- Post Until: string (nullable = true)\n",
      " |-- Posting Updated: string (nullable = true)\n",
      " |-- Process Date: string (nullable = true)\n",
      "\n"
     ]
    }
   ],
   "source": [
    "#getting the schema\n",
    "df.printSchema()"
   ]
  },
  {
   "cell_type": "code",
   "execution_count": 33,
   "metadata": {},
   "outputs": [
    {
     "data": {
      "text/plain": [
       "2946"
      ]
     },
     "execution_count": 33,
     "metadata": {},
     "output_type": "execute_result"
    }
   ],
   "source": [
    "# dataset count\n",
    "df.count()"
   ]
  },
  {
   "cell_type": "code",
   "execution_count": 34,
   "metadata": {},
   "outputs": [
    {
     "name": "stdout",
     "output_type": "stream",
     "text": [
      "Numerical columns: ['Job ID', '# Of Positions']\n",
      "============================================================================================================\n",
      "Character columns: ['Agency', 'Posting Type', 'Business Title', 'Civil Service Title', 'Title Code No', 'Level', 'Job Category', 'Full-Time/Part-Time indicator', 'Salary Frequency', 'Work Location', 'Division/Work Unit', 'Job Description', 'Minimum Qual Requirements', 'Preferred Skills', 'Additional Information', 'To Apply', 'Hours/Shift', 'Work Location 1', 'Recruitment Contact', 'Residency Requirement', 'Posting Date', 'Post Until', 'Posting Updated', 'Process Date']\n",
      "============================================================================================================\n",
      "Decimal columns: ['Salary Range From', 'Salary Range To']\n",
      "============================================================================================================\n"
     ]
    }
   ],
   "source": [
    "# Listing the columns based on its type\n",
    "col_type_dict = {}\n",
    "\n",
    "for col_name, col_type in df.dtypes:\n",
    "    if col_type in col_type_dict.keys():\n",
    "        col_type_dict[col_type].append(col_name)\n",
    "    else:\n",
    "        col_type_dict[col_type] = [col_name]\n",
    "\n",
    "\n",
    "for col_type, col_list in col_type_dict.items():\n",
    "    if col_type.lower() == 'string':\n",
    "        print(f\"Character columns: {col_list}\")\n",
    "    elif col_type.lower() == 'int':\n",
    "        print(f\"Numerical columns: {col_list}\")\n",
    "    elif col_type.lower() == 'double':\n",
    "        print(f\"Decimal columns: {col_list}\")\n",
    "    else:\n",
    "        print(f\"Other Type {col_type} columns: {col_list}\")\n",
    "    print('============================================================================================================')\n",
    "    "
   ]
  },
  {
   "cell_type": "code",
   "execution_count": 35,
   "metadata": {},
   "outputs": [
    {
     "name": "stdout",
     "output_type": "stream",
     "text": [
      "Categorical columns: ['Agency', 'Posting Type', 'Civil Service Title', 'Title Code No', 'Level', 'Job Category', 'Full-Time/Part-Time indicator', 'Salary Frequency', 'Work Location', 'Division/Work Unit', 'Minimum Qual Requirements', 'Preferred Skills', 'Additional Information', 'To Apply', 'Hours/Shift', 'Work Location 1', 'Recruitment Contact', 'Residency Requirement', 'Posting Date', 'Post Until', 'Posting Updated', 'Process Date']\n"
     ]
    }
   ],
   "source": [
    "# Identify categorical columns\n",
    "categorical_columns = []\n",
    "\n",
    "for col_name in col_type_dict['string']:\n",
    "    distinct_count = df.select(col_name).distinct().count()\n",
    "    if distinct_count < df.count() * 0.3:  # Adjust threshold as needed\n",
    "        categorical_columns.append(col_name)\n",
    "\n",
    "print(\"Categorical columns:\", categorical_columns)"
   ]
  },
  {
   "cell_type": "code",
   "execution_count": null,
   "metadata": {},
   "outputs": [],
   "source": []
  }
 ],
 "metadata": {
  "kernelspec": {
   "display_name": "Python 3",
   "language": "python",
   "name": "python3"
  },
  "language_info": {
   "codemirror_mode": {
    "name": "ipython",
    "version": 3
   },
   "file_extension": ".py",
   "mimetype": "text/x-python",
   "name": "python",
   "nbconvert_exporter": "python",
   "pygments_lexer": "ipython3",
   "version": "3.7.3"
  }
 },
 "nbformat": 4,
 "nbformat_minor": 4
}
