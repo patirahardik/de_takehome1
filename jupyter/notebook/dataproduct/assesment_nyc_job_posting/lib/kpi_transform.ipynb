{
 "cells": [
  {
   "cell_type": "code",
   "execution_count": 1,
   "metadata": {},
   "outputs": [],
   "source": [
    "# KPI 1: Number of job postings per category (Top 10)\n",
    "def get_top10_job_posting_per_cat(kpi_df):\n",
    "    \n",
    "    return kpi_df.groupBy(\"Job Category\").agg(sum(\"# Of Positions\").alias(\"No_Of_Position\")).sort(desc(\"No_Of_Position\")).limit(10)"
   ]
  },
  {
   "cell_type": "code",
   "execution_count": null,
   "metadata": {},
   "outputs": [],
   "source": [
    "# KPI 2: Whats the salary distribution per job category?\n",
    "def get_sal_dist_per_cat(kpi_df):\n",
    "    \n",
    "    sal_dist = kpi_df.groupBy(\"Job Category\").agg(\n",
    "    round(avg(\"Annual Salary From\"),2).alias(\"AvgSalaryFrom\"),\n",
    "    round(avg(\"Annual Salary To\"),2).alias(\"AvgSalaryTo\")).orderBy(\"Job Category\")\n",
    "    \n",
    "    return sal_dist"
   ]
  },
  {
   "cell_type": "code",
   "execution_count": null,
   "metadata": {},
   "outputs": [],
   "source": [
    "#Is there any correlation between the higher degree and the salary?\n",
    "def get_corr_higher_degree_salary(kpi_df):\n",
    "    # Analysis 3: Correlation between higher degree and salary\n",
    "    degree_salary_correlation = kpi_df.select(\"Minimum Qual Requirements\", \"Annual Salary From\", \"Annual Salary To\").na.drop().withColumn(\n",
    "        \"HasHigherDegree\",\n",
    "        when(f.lower(col(\"Minimum Qual Requirements\")).contains(\"master\") | f.lower(col(\"Minimum Qual Requirements\")).contains(\"ph.d.\"), 1).otherwise(0)\n",
    "    ).withColumn(\n",
    "        \"AvgSalary\",\n",
    "        (col(\"Annual Salary From\") + col(\"Annual Salary To\")) / 2\n",
    "    ).select(\"HasHigherDegree\", \"AvgSalary\").stat.corr(\"HasHigherDegree\", \"AvgSalary\")\n",
    "    return degree_salary_correlation"
   ]
  },
  {
   "cell_type": "code",
   "execution_count": 2,
   "metadata": {},
   "outputs": [
    {
     "ename": "SyntaxError",
     "evalue": "invalid syntax (<ipython-input-2-fcda45d6d31a>, line 13)",
     "output_type": "error",
     "traceback": [
      "\u001b[0;36m  File \u001b[0;32m\"<ipython-input-2-fcda45d6d31a>\"\u001b[0;36m, line \u001b[0;32m13\u001b[0m\n\u001b[0;31m    return max_sal_per_agency_df\u001b[0m\n\u001b[0m         ^\u001b[0m\n\u001b[0;31mSyntaxError\u001b[0m\u001b[0;31m:\u001b[0m invalid syntax\n"
     ]
    }
   ],
   "source": [
    "#KPI 4: Whats the job posting having the highest salary per agency?\n",
    "def get_highes_sal_per_cat(kpi_df):\n",
    "    \n",
    "    # window for highest salary per agency\n",
    "    max_sal_per_agency_window_spec = Window.partitionBy(\"Agency\").orderBy(col(\"Annual Salary To\").desc())\n",
    "    \n",
    "    #finding the highest\n",
    "    max_sal_per_agency_df = kpi_df.withColumn(\"rank\", rank().over(max_sal_per_agency_window_spec)).filter(col(\"rank\") == 1)\n",
    "    \n",
    "    # Select the relevant columns for the result\n",
    "    max_sal_per_agency_df = max_sal_per_agency_df.select(\"Agency\", \"Business Title\", round(col(\"Annual Salary To\"),2).alias('Highest Salary')).distinct() # Assuming for \"Anual Salary To\" rounding to 2 decimal required.\n",
    "    \n",
    "    return max_sal_per_agency_df"
   ]
  },
  {
   "cell_type": "code",
   "execution_count": null,
   "metadata": {},
   "outputs": [],
   "source": [
    "#KPI5: Whats the job positings average salary per agency for the last n years\n",
    "def get_avg_sal_per_agency_last_n_year(kpi_df,last_n_year):\n",
    "    n_years_ago = date_sub(current_timestamp(), 365 * last_n_year)\n",
    "    last_n_job_posting_df = kpi_df.select('Agency','Annual Salary From','Annual Salary To').filter(col('Posting Date') >= n_years_ago)\n",
    "    avg_salary_df = last_n_job_posting_df.groupBy(\"Agency\").agg(\n",
    "                                                            round(avg(col(\"Annual Salary From\")),2).alias(\"Avg_Annual_Salary_From\"),\n",
    "                                                            round(avg(col(\"Annual Salary To\")),2).alias(\"Avg_Annual_Salary_To\")\n",
    "                                                            )\n",
    "    return avg_salary_df"
   ]
  },
  {
   "cell_type": "code",
   "execution_count": null,
   "metadata": {},
   "outputs": [],
   "source": [
    "#KPI6: What are the highest paid skills in the US market\n",
    "def top_highest_paid_job_postings(kpi_df, sample_size=20):\n",
    "    # finding top 20 highest paid job postings.\n",
    "    highest_paid_job = kpi_df.select('Job ID','Preferred Skills','Preferred Skills_prepared','Salary Range To').filter((f.col(\"Preferred Skills_prepared\") != 'error name') & (f.col(\"Preferred Skills_prepared\") != '')).orderBy(col('Salary Range To').desc())\n",
    "\n",
    "    #filtering sample records for job postings\n",
    "    top_samples_job_posting_df = highest_paid_job.select('Preferred Skills_prepared').limit(sample_size)\n",
    "\n",
    "    # getting top skills\n",
    "    splitted_skills_df = top_samples_job_posting_df.select(f.explode(f.split(col(\"Preferred Skills_prepared\"), \" \")).alias(\"skills\"))\n",
    "    top_skills_df = splitted_skills_df.groupBy('skills').count().orderBy(col('count').desc())\n",
    "    return top_skills_df"
   ]
  },
  {
   "cell_type": "code",
   "execution_count": null,
   "metadata": {},
   "outputs": [],
   "source": [
    "print(\"KPI Transformations Imported\")"
   ]
  }
 ],
 "metadata": {
  "kernelspec": {
   "display_name": "Python 3",
   "language": "python",
   "name": "python3"
  },
  "language_info": {
   "codemirror_mode": {
    "name": "ipython",
    "version": 3
   },
   "file_extension": ".py",
   "mimetype": "text/x-python",
   "name": "python",
   "nbconvert_exporter": "python",
   "pygments_lexer": "ipython3",
   "version": "3.7.3"
  }
 },
 "nbformat": 4,
 "nbformat_minor": 4
}
