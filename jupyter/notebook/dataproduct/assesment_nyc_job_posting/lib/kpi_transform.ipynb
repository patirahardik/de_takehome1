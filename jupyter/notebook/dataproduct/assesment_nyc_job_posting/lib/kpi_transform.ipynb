{
 "cells": [
  {
   "cell_type": "code",
   "execution_count": null,
   "metadata": {},
   "outputs": [],
   "source": [
    "# KPI 1: Number of job postings per category (Top 10)\n",
    "def get_top10_job_posting_per_cat(kpi_df):\n",
    "    \n",
    "    return kpi_df.groupBy(\"Job Category\").count().orderBy(col(\"count\").desc()).limit(10)"
   ]
  },
  {
   "cell_type": "code",
   "execution_count": null,
   "metadata": {},
   "outputs": [],
   "source": [
    "# KPI 2: Whats the salary distribution per job category?\n",
    "def get_sal_dist_per_cat(kpi_df):\n",
    "    \n",
    "    sal_dist = kpi_df.groupBy(\"Job Category\").agg(\n",
    "    round(avg(\"Annual Salary From\"),2).alias(\"AvgSalaryFrom\"),\n",
    "    round(avg(\"Annual Salary To\"),2).alias(\"AvgSalaryTo\")).orderBy(\"Job Category\")\n",
    "    \n",
    "    return sal_dist"
   ]
  },
  {
   "cell_type": "code",
   "execution_count": null,
   "metadata": {},
   "outputs": [],
   "source": [
    "#KPI 4: Whats the job posting having the highest salary per agency?\n",
    "def get_highes_sal_per_cat(kpi_df):\n",
    "    \n",
    "    # window for highest salary per agency\n",
    "    max_sal_per_agency_window_spec = Window.partitionBy(\"Agency\").orderBy(col(\"Annual Salary To\").desc())\n",
    "    \n",
    "    #finding the highest\n",
    "    max_sal_per_agency_df = kpi_df.withColumn(\"rank\", rank().over(max_sal_per_agency_window_spec)).filter(col(\"rank\") == 1)\n",
    "    \n",
    "    # Select the relevant columns for the result\n",
    "    max_sal_per_agency_df = max_sal_per_agency_df.select(\"Agency\", \"Business Title\", round(col(\"Annual Salary To\"),2)).distinct() # Assuming for \"Anual Salary To\" rounding to 2 decimal required.\n",
    "    \n",
    "    return max_sal_per_agency_df"
   ]
  },
  {
   "cell_type": "code",
   "execution_count": null,
   "metadata": {},
   "outputs": [],
   "source": [
    "#KPI5: Whats the job positings average salary per agency for the last n years\n",
    "def get_avg_sal_per_agency_last_n_year(kpi_df,last_n_year):\n",
    "    n_years_ago = f.date_sub(f.current_timestamp(), 365 * last_n_year)\n",
    "    last_n_job_posting_df = kpi_df.select('Agency','Annual Salary From','Annual Salary To').filter(col('Posting Date') >= two_years_ago)\n",
    "    avg_salary_df = last_n_job_posting_df.groupBy(\"Agency\").agg(\n",
    "                                                            round(avg(col(\"Annual Salary From\")),2).alias(\"Avg_Annual_Salary_From\"),\n",
    "                                                            round(avg(col(\"Annual Salary To\")),2).alias(\"Avg_Annual_Salary_To\")\n",
    "                                                            )\n",
    "    return avg_salary_df"
   ]
  },
  {
   "cell_type": "code",
   "execution_count": null,
   "metadata": {},
   "outputs": [],
   "source": [
    "print(\"KPI Transformations Imported\")"
   ]
  }
 ],
 "metadata": {
  "kernelspec": {
   "display_name": "Python 3",
   "language": "python",
   "name": "python3"
  },
  "language_info": {
   "codemirror_mode": {
    "name": "ipython",
    "version": 3
   },
   "file_extension": ".py",
   "mimetype": "text/x-python",
   "name": "python",
   "nbconvert_exporter": "python",
   "pygments_lexer": "ipython3",
   "version": "3.7.3"
  }
 },
 "nbformat": 4,
 "nbformat_minor": 4
}
