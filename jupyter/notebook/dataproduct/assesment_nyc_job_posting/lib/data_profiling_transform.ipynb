{
 "cells": [
  {
   "cell_type": "code",
   "execution_count": null,
   "metadata": {},
   "outputs": [],
   "source": [
    "from pyspark.sql.functions import col, when, avg, round, rank, count"
   ]
  },
  {
   "cell_type": "code",
   "execution_count": null,
   "metadata": {},
   "outputs": [],
   "source": [
    "def calculate_missing_value_counts(df):\n",
    "    missing_value_counts = df.select([(count(when(col(c).cast(\"string\").contains('None') |\n",
    "                                  col(c).cast(\"string\").contains('NULL') |\n",
    "                                  (col(c) == '') |\n",
    "                                  col(c).isNull() |\n",
    "                                  isnan(col(c).cast(\"string\")), c)).alias(c + \"_missing\"))\n",
    "                       for c in df.columns])\n",
    "    return missing_value_counts"
   ]
  },
  {
   "cell_type": "code",
   "execution_count": null,
   "metadata": {},
   "outputs": [],
   "source": [
    "# Calculate basic statistics for numerical columns\n",
    "def calculate_summary_stats(df, numerical_columns):\n",
    "    summary_stats = df.select(*numerical_columns).summary(\"mean\", \"stddev\", \"min\", \"max\")\n",
    "    return summary_stats"
   ]
  },
  {
   "cell_type": "code",
   "execution_count": 1,
   "metadata": {},
   "outputs": [],
   "source": [
    "# Function to determine if a column is categorical based on the number of distinct values\n",
    "def is_categorical(df, column, distinct_threshold=10):\n",
    "    distinct_count = df.select(column).distinct().count()\n",
    "    return distinct_count <= distinct_threshold, distinct_count"
   ]
  },
  {
   "cell_type": "code",
   "execution_count": 2,
   "metadata": {},
   "outputs": [],
   "source": [
    "def profile_categorical_column(df, col_name):\n",
    "    is_categorical_cond, distinct_values = is_categorical(df, col_name, distinct_threshold=10) \n",
    "    if is_categorical_cond:\n",
    "        top_values = df.groupBy(col_name).count().orderBy(col(\"count\").desc()).limit(5)\n",
    "        return is_categorical_cond, distinct_values, top_values\n",
    "    return is_categorical_cond, None, None"
   ]
  },
  {
   "cell_type": "code",
   "execution_count": 1,
   "metadata": {},
   "outputs": [
    {
     "name": "stdout",
     "output_type": "stream",
     "text": [
      "Data profile Function Imported\n"
     ]
    }
   ],
   "source": [
    "print(\"Data profile Function Imported\")"
   ]
  },
  {
   "cell_type": "code",
   "execution_count": null,
   "metadata": {},
   "outputs": [],
   "source": []
  }
 ],
 "metadata": {
  "kernelspec": {
   "display_name": "Python 3",
   "language": "python",
   "name": "python3"
  },
  "language_info": {
   "codemirror_mode": {
    "name": "ipython",
    "version": 3
   },
   "file_extension": ".py",
   "mimetype": "text/x-python",
   "name": "python",
   "nbconvert_exporter": "python",
   "pygments_lexer": "ipython3",
   "version": "3.7.3"
  }
 },
 "nbformat": 4,
 "nbformat_minor": 4
}
