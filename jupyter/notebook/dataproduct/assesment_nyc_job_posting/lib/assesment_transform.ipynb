{
 "cells": [
  {
   "cell_type": "code",
   "execution_count": null,
   "metadata": {},
   "outputs": [],
   "source": [
    "def calculate_missing_value_counts(df):\n",
    "    missing_value_counts = df.select([(f.count(f.when(f.col(c).contains('None') |\n",
    "                                  f.col(c).contains('NULL') |\n",
    "                                  (f.col(c) == '') |\n",
    "                                  f.col(c).isNull() |\n",
    "                                  f.isnan(c), c)).alias(c + \"_missing\"))\n",
    "                       for c in df.columns])\n",
    "    return missing_value_counts"
   ]
  },
  {
   "cell_type": "code",
   "execution_count": null,
   "metadata": {},
   "outputs": [],
   "source": [
    "def calculate_missing_value_counts(df):\n",
    "    missing_value_counts = df.select([(f.count(f.when(f.col(c).contains('None') |\n",
    "                                  f.col(c).contains('NULL') |\n",
    "                                  (f.col(c) == '') |\n",
    "                                  f.col(c).isNull() |\n",
    "                                  f.isnan(c), c)).alias(c + \"_missing\"))\n",
    "                       for c in df.columns])\n",
    "    return missing_value_counts"
   ]
  },
  {
   "cell_type": "code",
   "execution_count": null,
   "metadata": {},
   "outputs": [],
   "source": [
    "# Calculate basic statistics for numerical columns\n",
    "def calculate_summary_stats(df, numerical_columns):\n",
    "    summary_stats = df.select(*numerical_columns).summary(\"mean\", \"stddev\", \"min\", \"max\")\n",
    "    return summary_stats"
   ]
  },
  {
   "cell_type": "code",
   "execution_count": null,
   "metadata": {},
   "outputs": [],
   "source": [
    "def profile_categorical_column(df, col_name):\n",
    "    distinct_values = df.select(col_name).distinct().count()\n",
    "    top_values = df.groupBy(col_name).count().orderBy(f.col(\"count\").desc()).limit(5)\n",
    "    return distinct_values, top_values"
   ]
  },
  {
   "cell_type": "code",
   "execution_count": null,
   "metadata": {},
   "outputs": [],
   "source": [
    "def get_categorical_column(df, threshold=0.3):\n",
    "    categorical_columns = []\n",
    "    for col_name in df.columns:\n",
    "        distinct_count = df.select(col_name).distinct().count()\n",
    "        if distinct_count < df.count() * threshold:  # Adjust threshold as needed\n",
    "            categorical_columns.append(col_name)\n",
    "\n",
    "    return categorical_columns"
   ]
  },
  {
   "cell_type": "code",
   "execution_count": 1,
   "metadata": {},
   "outputs": [
    {
     "name": "stdout",
     "output_type": "stream",
     "text": [
      "Data profile Function Imported\n"
     ]
    }
   ],
   "source": [
    "print(\"Data profile Function Imported\")"
   ]
  },
  {
   "cell_type": "code",
   "execution_count": null,
   "metadata": {},
   "outputs": [],
   "source": []
  }
 ],
 "metadata": {
  "kernelspec": {
   "display_name": "Python 3",
   "language": "python",
   "name": "python3"
  },
  "language_info": {
   "codemirror_mode": {
    "name": "ipython",
    "version": 3
   },
   "file_extension": ".py",
   "mimetype": "text/x-python",
   "name": "python",
   "nbconvert_exporter": "python",
   "pygments_lexer": "ipython3",
   "version": "3.7.3"
  }
 },
 "nbformat": 4,
 "nbformat_minor": 4
}
