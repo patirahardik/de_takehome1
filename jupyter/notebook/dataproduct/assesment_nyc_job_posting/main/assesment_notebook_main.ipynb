{
 "cells": [
  {
   "cell_type": "code",
   "execution_count": 1,
   "metadata": {},
   "outputs": [],
   "source": [
    "# adding required packages\n",
    "import findspark\n",
    "import pprint\n",
    "import matplotlib.pyplot as plt"
   ]
  },
  {
   "cell_type": "code",
   "execution_count": 2,
   "metadata": {},
   "outputs": [],
   "source": [
    "#To make pyspark importable as a regular library\n",
    "findspark.init()"
   ]
  },
  {
   "cell_type": "code",
   "execution_count": 14,
   "metadata": {},
   "outputs": [],
   "source": [
    "#importing pyspark related package\n",
    "from pyspark.sql import SparkSession\n",
    "from pyspark.conf import SparkConf\n",
    "from pyspark.sql.functions import col, when, avg, round, rank, isnan\n",
    "from pyspark.sql.window import Window"
   ]
  },
  {
   "cell_type": "code",
   "execution_count": 28,
   "metadata": {},
   "outputs": [
    {
     "name": "stdout",
     "output_type": "stream",
     "text": [
      "Data profile Function Imported\n"
     ]
    }
   ],
   "source": [
    "%run /notebook/dataproduct/assesment_nyc_job_posting/lib/data_profiling_transform.ipynb"
   ]
  },
  {
   "cell_type": "code",
   "execution_count": 6,
   "metadata": {},
   "outputs": [
    {
     "name": "stdout",
     "output_type": "stream",
     "text": [
      "KPI Transformations Imported\n"
     ]
    }
   ],
   "source": [
    "%run /notebook/dataproduct/assesment_nyc_job_posting/lib/kpi_transform.ipynb"
   ]
  },
  {
   "cell_type": "code",
   "execution_count": 7,
   "metadata": {},
   "outputs": [
    {
     "name": "stdout",
     "output_type": "stream",
     "text": [
      "Spark Session Imported\n"
     ]
    }
   ],
   "source": [
    "%run /notebook/dataproduct/assesment_nyc_job_posting/utils/spark_session.ipynb"
   ]
  },
  {
   "cell_type": "code",
   "execution_count": 8,
   "metadata": {},
   "outputs": [],
   "source": [
    "# Local System Configuration\n",
    "# Total Memory = 16GB\n",
    "# Total Cores = 10\n",
    "\n",
    "def get_spark_conf():\n",
    "    # Configure Spark settings\n",
    "    spark_conf = SparkConf()\n",
    "    spark_conf.set(\"spark.executor.instances\", \"4\") # 4 instance per node\n",
    "\n",
    "    # Set the number of executor cores\n",
    "    spark_conf.set(\"spark.executor.cores\", \"2\")  # Use 2 cores per executor\n",
    "\n",
    "    # Set the executor memory\n",
    "    spark_conf.set(\"spark.executor.memory\", \"1g\")  # Use 1GB memory per executor\n",
    "\n",
    "    # Set the driver memory\n",
    "    spark_conf.set(\"spark.driver.memory\", \"2g\")    # Use 2GB memory for the driver\n",
    "    \n",
    "    return spark_conf"
   ]
  },
  {
   "cell_type": "code",
   "execution_count": 9,
   "metadata": {},
   "outputs": [],
   "source": [
    "# # Listing the columns based on its type\n",
    "# def get_col_type_dict(df):\n",
    "#     col_type_dict = {}\n",
    "\n",
    "#     for col_name, col_type in df.dtypes:\n",
    "#         if col_type in col_type_dict.keys():\n",
    "#             col_type_dict[col_type].append(col_name)\n",
    "#         else:\n",
    "#             col_type_dict[col_type] = [col_name]\n",
    "\n",
    "#     return col_type_dict"
   ]
  },
  {
   "cell_type": "code",
   "execution_count": 21,
   "metadata": {},
   "outputs": [],
   "source": [
    "def data_profile(df):\n",
    "    \n",
    "    print(\"Starting Data Profiling\")\n",
    "    print(\"Schema of the dataset\")\n",
    "    \n",
    "    #getting the schema\n",
    "    df.printSchema()\n",
    "    \n",
    "    ## Display the first few rows of the DataFrame\n",
    "    display(df.limit(10))\n",
    "    \n",
    "    # Getting counts\n",
    "    total_count = df.count()\n",
    "    print(f\"Total Records: {total_count}\")\n",
    "    \n",
    "    print(\"Getting missing value counts\")\n",
    "    missing_value_counts = calculate_missing_value_counts(df)\n",
    "    display(missing_value_counts)\n",
    "    \n",
    "    print(\"Getting numerical status\")\n",
    "    numerical_columns = [col_name for col_name, col_type in df.dtypes if col_type in [\"int\", \"double\", \"float\"]]\n",
    "    summary_stats = calculate_summary_stats(df, numerical_columns)\n",
    "    display(summary_stats)\n",
    "    \n",
    "    print(\"Getting categorical columns\") \n",
    "    # Most of the time categorical column should be string type but for this analysis -\n",
    "    # assuming that categorical columns can be any type.\n",
    "    distinct_threshold=10\n",
    "    for col_name in df.columns:\n",
    "        is_categorical_cond, distinct_values, top_values = profile_categorical_column(df, col_name)\n",
    "        if is_categorical_cond:\n",
    "            print(f\"Column: {col_name}\")\n",
    "            print(f\"Distinct Values: {distinct_values}\")\n",
    "            print(\"Top Values:\")\n",
    "            top_values.show(truncate=False)\n",
    "\n"
   ]
  },
  {
   "cell_type": "code",
   "execution_count": 11,
   "metadata": {},
   "outputs": [],
   "source": [
    "def show_kpi(df):        \n",
    "    # Salary range is linked with salary frequency. \n",
    "    # To get any metrics which depends on salary we need to have salary in same frequency.    \n",
    "    print(\"Preparing Data for KPI\")\n",
    "    kpi_pre_df = df.withColumn(\"Annual Salary From\",\n",
    "                       when(col(\"Salary Frequency\") == \"Hourly\", col(\"Salary Range From\") * 2080)  # Assuming 2080 work hours per year\n",
    "                       .when(col(\"Salary Frequency\") == \"Weekly\", col(\"Salary Range From\") * 52)\n",
    "                       .when(col(\"Salary Frequency\") == \"Daily\", col(\"Salary Range From\") * 260)  # Assuming 5 workdays per week\n",
    "                       .otherwise(col(\"Salary Range From\")))\n",
    "    \n",
    "    kpi_df = kpi_pre_df.withColumn(\"Annual Salary To\",\n",
    "                       when(col(\"Salary Frequency\") == \"Hourly\", col(\"Salary Range To\") * 2080)\n",
    "                       .when(col(\"Salary Frequency\") == \"Weekly\", col(\"Salary Range To\") * 52)\n",
    "                       .when(col(\"Salary Frequency\") == \"Daily\", col(\"Salary Range To\") * 260)\n",
    "                       .otherwise(col(\"Salary Range To\")))\n",
    "    \n",
    "    \n",
    "    print(\"Getting KPIs\")\n",
    "    print(\"Top 10 jobs posting per category\")\n",
    "    category_counts = get_top10_job_posting_per_cat(kpi_df)\n",
    "    category_counts.show(truncate=False)\n",
    "    \n",
    "    print(\"The salary distribution per job category\")\n",
    "    salary_distribution = get_sal_dist_per_cat(kpi_df)\n",
    "    salary_distribution.show(truncate=False)\n",
    "    \n",
    "    print(\"The job posting having the highest salary per agency\")\n",
    "    max_sal_per_agency_df = get_highes_sal_per_cat(kpi_df)\n",
    "    max_sal_per_agency_df.show(truncate=False)\n",
    "    \n",
    "    #KPI5: Whats the job positings average salary per agency for the last 2 years\n",
    "    print(\"The average salary per agency for the last 2 years\")\n",
    "    last_n_year = 2\n",
    "    avg_salary_df = get_avg_sal_per_agency_last_n_year(kpi_df,last_n_year)\n",
    "    avg_salary_df.show(truncate=False)\n",
    "\n",
    "    # KPI6 6: What are the highest paid skills in the US market?"
   ]
  },
  {
   "cell_type": "code",
   "execution_count": 12,
   "metadata": {},
   "outputs": [],
   "source": [
    "def main():\n",
    "    \n",
    "    job_name = 'nyc_assesment'\n",
    "    \n",
    "    #setting spark conf before creating spark session\n",
    "    spark_conf = get_spark_conf()\n",
    "    \n",
    "    # Create a SparkSession with the configured settings\n",
    "    spark = get_spark_session(spark_conf, job_name)\n",
    "    \n",
    "    # Listing all the spark conf\n",
    "    spark.sparkContext.getConf().getAll()\n",
    "    \n",
    "    # setting spark conf for analysis\n",
    "    spark.conf.set('spark.sql.repl.eagerEval.enabled',True)\n",
    "    \n",
    "    #reading dataset\n",
    "    # adding escape charater after data profiling the data \n",
    "    df = spark.read.csv(\"/dataset/nyc-jobs.csv\", header=True, inferSchema=True, escape='\"')\n",
    "    \n",
    "    # reducing the shuffle partition to 4 \n",
    "    # reason 1 data size is very less\n",
    "    # reason 2 to use all the availble cores\n",
    "    spark.conf.set('spark.sql.shuffle.partitions',4)\n",
    "    \n",
    "    # Creating data profile\n",
    "    data_profile(df)\n",
    "    \n",
    "    # Prepreparing data for KPI\n",
    "    # Need to implement\n",
    "    \n",
    "    # Writing prepared and cleaned data \n",
    "    # Needt to implement\n",
    "    \n",
    "    # Showing KPIs\n",
    "    #show_kpi(df)"
   ]
  },
  {
   "cell_type": "code",
   "execution_count": 29,
   "metadata": {},
   "outputs": [
    {
     "name": "stdout",
     "output_type": "stream",
     "text": [
      "Starting Data Profiling\n",
      "Schema of the dataset\n",
      "root\n",
      " |-- Job ID: integer (nullable = true)\n",
      " |-- Agency: string (nullable = true)\n",
      " |-- Posting Type: string (nullable = true)\n",
      " |-- # Of Positions: integer (nullable = true)\n",
      " |-- Business Title: string (nullable = true)\n",
      " |-- Civil Service Title: string (nullable = true)\n",
      " |-- Title Code No: string (nullable = true)\n",
      " |-- Level: string (nullable = true)\n",
      " |-- Job Category: string (nullable = true)\n",
      " |-- Full-Time/Part-Time indicator: string (nullable = true)\n",
      " |-- Salary Range From: double (nullable = true)\n",
      " |-- Salary Range To: double (nullable = true)\n",
      " |-- Salary Frequency: string (nullable = true)\n",
      " |-- Work Location: string (nullable = true)\n",
      " |-- Division/Work Unit: string (nullable = true)\n",
      " |-- Job Description: string (nullable = true)\n",
      " |-- Minimum Qual Requirements: string (nullable = true)\n",
      " |-- Preferred Skills: string (nullable = true)\n",
      " |-- Additional Information: string (nullable = true)\n",
      " |-- To Apply: string (nullable = true)\n",
      " |-- Hours/Shift: string (nullable = true)\n",
      " |-- Work Location 1: string (nullable = true)\n",
      " |-- Recruitment Contact: string (nullable = true)\n",
      " |-- Residency Requirement: string (nullable = true)\n",
      " |-- Posting Date: timestamp (nullable = true)\n",
      " |-- Post Until: timestamp (nullable = true)\n",
      " |-- Posting Updated: timestamp (nullable = true)\n",
      " |-- Process Date: timestamp (nullable = true)\n",
      "\n"
     ]
    },
    {
     "data": {
      "text/html": [
       "<table border='1'>\n",
       "<tr><th>Job ID</th><th>Agency</th><th>Posting Type</th><th># Of Positions</th><th>Business Title</th><th>Civil Service Title</th><th>Title Code No</th><th>Level</th><th>Job Category</th><th>Full-Time/Part-Time indicator</th><th>Salary Range From</th><th>Salary Range To</th><th>Salary Frequency</th><th>Work Location</th><th>Division/Work Unit</th><th>Job Description</th><th>Minimum Qual Requirements</th><th>Preferred Skills</th><th>Additional Information</th><th>To Apply</th><th>Hours/Shift</th><th>Work Location 1</th><th>Recruitment Contact</th><th>Residency Requirement</th><th>Posting Date</th><th>Post Until</th><th>Posting Updated</th><th>Process Date</th></tr>\n",
       "<tr><td>87990</td><td>DEPARTMENT OF BUS...</td><td>Internal</td><td>1</td><td>Account Manager</td><td>CONTRACT REVIEWER...</td><td>40563</td><td>1</td><td>null</td><td>null</td><td>42405.0</td><td>65485.0</td><td>Annual</td><td>110 William St. N Y</td><td>Strategy &amp; Analytics</td><td>Division of Econo...</td><td>1.\tA baccalaureat...</td><td>â€¢\tExcellent int...</td><td>Salary range for ...</td><td>null</td><td>null</td><td>null</td><td>null</td><td>New York City res...</td><td>2011-06-24 00:00:00</td><td>null</td><td>2011-06-24 00:00:00</td><td>2019-12-17 00:00:00</td></tr>\n",
       "<tr><td>97899</td><td>DEPARTMENT OF BUS...</td><td>Internal</td><td>1</td><td>EXECUTIVE DIRECTO...</td><td>ADMINISTRATIVE BU...</td><td>10009</td><td>M3</td><td>null</td><td>F</td><td>60740.0</td><td>162014.0</td><td>Annual</td><td>110 William St. N Y</td><td>Tech Talent Pipeline</td><td>The New York City...</td><td>1. A baccalaureat...</td><td>null</td><td>null</td><td>In addition to ap...</td><td>null</td><td>null</td><td>null</td><td>New York City res...</td><td>2012-01-26 00:00:00</td><td>null</td><td>2012-01-26 00:00:00</td><td>2019-12-17 00:00:00</td></tr>\n",
       "<tr><td>132292</td><td>NYC HOUSING AUTHO...</td><td>External</td><td>52</td><td>Maintenance Worke...</td><td>MAINTENANCE WORKER</td><td>90698</td><td>0</td><td>Maintenance &amp; Ope...</td><td>F</td><td>51907.68</td><td>54580.32</td><td>Annual</td><td>Heating Mgt-Opera...</td><td>Management Servic...</td><td>Under direct supe...</td><td>1. Three years of...</td><td>1.  A High School...</td><td>1.  A Motor Vehic...</td><td>Click the &quot;Apply ...</td><td>null</td><td>null</td><td>null</td><td>NYCHA has no resi...</td><td>2013-10-24 00:00:00</td><td>null</td><td>2013-12-12 00:00:00</td><td>2019-12-17 00:00:00</td></tr>\n",
       "<tr><td>132292</td><td>NYC HOUSING AUTHO...</td><td>Internal</td><td>52</td><td>Maintenance Worke...</td><td>MAINTENANCE WORKER</td><td>90698</td><td>0</td><td>Maintenance &amp; Ope...</td><td>F</td><td>51907.68</td><td>54580.32</td><td>Annual</td><td>Heating Mgt-Opera...</td><td>Management Servic...</td><td>Under direct supe...</td><td>1. Three years of...</td><td>1.  A High School...</td><td>1.  A Motor Vehic...</td><td>Click the &quot;Apply ...</td><td>null</td><td>null</td><td>null</td><td>NYCHA has no resi...</td><td>2013-10-24 00:00:00</td><td>null</td><td>2013-12-12 00:00:00</td><td>2019-12-17 00:00:00</td></tr>\n",
       "<tr><td>133921</td><td>NYC HOUSING AUTHO...</td><td>Internal</td><td>50</td><td>Temporary Painter</td><td>PAINTER</td><td>91830</td><td>0</td><td>Maintenance &amp; Ope...</td><td>F</td><td>35.0</td><td>35.0</td><td>Hourly</td><td>DMP-Contract &amp; An...</td><td>Dept of Managemen...</td><td>Responsibilities ...</td><td>1. Five years of ...</td><td>null</td><td>SPECIAL NOTE:    ...</td><td>Click the &quot;Apply ...</td><td>null</td><td>null</td><td>null</td><td>NYCHA has no resi...</td><td>2014-01-09 00:00:00</td><td>null</td><td>2014-01-08 00:00:00</td><td>2019-12-17 00:00:00</td></tr>\n",
       "<tr><td>133921</td><td>NYC HOUSING AUTHO...</td><td>External</td><td>50</td><td>Temporary Painter</td><td>PAINTER</td><td>91830</td><td>0</td><td>Maintenance &amp; Ope...</td><td>F</td><td>35.0</td><td>35.0</td><td>Hourly</td><td>DMP-Contract &amp; An...</td><td>Dept of Managemen...</td><td>Responsibilities ...</td><td>1. Five years of ...</td><td>null</td><td>SPECIAL NOTE:    ...</td><td>Click the &quot;Apply ...</td><td>null</td><td>null</td><td>null</td><td>NYCHA has no resi...</td><td>2014-01-09 00:00:00</td><td>null</td><td>2014-01-08 00:00:00</td><td>2019-12-17 00:00:00</td></tr>\n",
       "<tr><td>137433</td><td>DEPT OF HEALTH/ME...</td><td>Internal</td><td>1</td><td>Contract Analyst</td><td>PROCUREMENT ANALYST</td><td>12158</td><td>3</td><td>Finance, Accounti...</td><td>F</td><td>50598.0</td><td>85053.0</td><td>Annual</td><td>42-09 28th Street</td><td>HIV Administration</td><td>** OPEN TO PERMAN...</td><td>1. A baccalaureat...</td><td>Strong analytical...</td><td>null</td><td>Apply online with...</td><td>null</td><td>42-09 28th Street...</td><td>null</td><td>New York City res...</td><td>2013-12-09 00:00:00</td><td>null</td><td>2013-12-09 00:00:00</td><td>2019-12-17 00:00:00</td></tr>\n",
       "<tr><td>138531</td><td>DEPT OF ENVIRONME...</td><td>Internal</td><td>1</td><td>Associate Chemist</td><td>ASSOCIATE CHEMIST</td><td>21822</td><td>2</td><td>Health Public Saf...</td><td>F</td><td>50623.0</td><td>75083.0</td><td>Annual</td><td>96-05 Horace Hard...</td><td>DWOC Labs-Lefrak</td><td>Working in the Di...</td><td>Qualification Req...</td><td>In order to apply...</td><td>null</td><td>Click the &quot;Apply ...</td><td>35 Hours per week...</td><td>96-05 Horace Hard...</td><td>null</td><td>New York City res...</td><td>2013-12-20 00:00:00</td><td>null</td><td>2014-07-25 00:00:00</td><td>2019-12-17 00:00:00</td></tr>\n",
       "<tr><td>151131</td><td>NYC HOUSING AUTHO...</td><td>External</td><td>1</td><td>Cost Estimating M...</td><td>ADMINISTRATIVE ST...</td><td>1002D</td><td>0</td><td>Engineering, Arch...</td><td>F</td><td>90000.0</td><td>110000.0</td><td>Annual</td><td>CP Cap Plan-Techn...</td><td>Capital Planning ...</td><td>Reporting to the ...</td><td>1. A master&#x27;s deg...</td><td>1.  Five years of...</td><td>SPECIAL INSTRUCTI...</td><td>Click the &quot;Apply ...</td><td>null</td><td>null</td><td>null</td><td>NYCHA has no resi...</td><td>2014-06-25 00:00:00</td><td>null</td><td>2014-07-07 00:00:00</td><td>2019-12-17 00:00:00</td></tr>\n",
       "<tr><td>152738</td><td>LAW DEPARTMENT</td><td>Internal</td><td>1</td><td>Office Manager</td><td>CLERICAL ASSOCIATE</td><td>10251</td><td>3</td><td>Clerical &amp; Admini...</td><td>F</td><td>30683.0</td><td>49707.0</td><td>Annual</td><td>100 Church St., N.Y.</td><td>Appeals</td><td>Performs essentia...</td><td>Qualification Req...</td><td>Experience with L...</td><td>Candidates must b...</td><td>Please click the ...</td><td>Monday through Fr...</td><td>null</td><td>null</td><td>New York City res...</td><td>2014-06-26 00:00:00</td><td>null</td><td>2014-06-26 00:00:00</td><td>2019-12-17 00:00:00</td></tr>\n",
       "</table>\n"
      ],
      "text/plain": [
       "+------+--------------------+------------+--------------+--------------------+--------------------+-------------+-----+--------------------+-----------------------------+-----------------+---------------+----------------+--------------------+--------------------+--------------------+-------------------------+--------------------+----------------------+--------------------+--------------------+--------------------+-------------------+---------------------+-------------------+----------+-------------------+-------------------+\n",
       "|Job ID|              Agency|Posting Type|# Of Positions|      Business Title| Civil Service Title|Title Code No|Level|        Job Category|Full-Time/Part-Time indicator|Salary Range From|Salary Range To|Salary Frequency|       Work Location|  Division/Work Unit|     Job Description|Minimum Qual Requirements|    Preferred Skills|Additional Information|            To Apply|         Hours/Shift|     Work Location 1|Recruitment Contact|Residency Requirement|       Posting Date|Post Until|    Posting Updated|       Process Date|\n",
       "+------+--------------------+------------+--------------+--------------------+--------------------+-------------+-----+--------------------+-----------------------------+-----------------+---------------+----------------+--------------------+--------------------+--------------------+-------------------------+--------------------+----------------------+--------------------+--------------------+--------------------+-------------------+---------------------+-------------------+----------+-------------------+-------------------+\n",
       "| 87990|DEPARTMENT OF BUS...|    Internal|             1|     Account Manager|CONTRACT REVIEWER...|        40563|    1|                null|                         null|          42405.0|        65485.0|          Annual| 110 William St. N Y|Strategy & Analytics|Division of Econo...|     1.\tA baccalaureat...|â€¢\tExcellent int...|  Salary range for ...|                null|                null|                null|               null| New York City res...|2011-06-24 00:00:00|      null|2011-06-24 00:00:00|2019-12-17 00:00:00|\n",
       "| 97899|DEPARTMENT OF BUS...|    Internal|             1|EXECUTIVE DIRECTO...|ADMINISTRATIVE BU...|        10009|   M3|                null|                            F|          60740.0|       162014.0|          Annual| 110 William St. N Y|Tech Talent Pipeline|The New York City...|     1. A baccalaureat...|                null|                  null|In addition to ap...|                null|                null|               null| New York City res...|2012-01-26 00:00:00|      null|2012-01-26 00:00:00|2019-12-17 00:00:00|\n",
       "|132292|NYC HOUSING AUTHO...|    External|            52|Maintenance Worke...|  MAINTENANCE WORKER|        90698|    0|Maintenance & Ope...|                            F|         51907.68|       54580.32|          Annual|Heating Mgt-Opera...|Management Servic...|Under direct supe...|     1. Three years of...|1.  A High School...|  1.  A Motor Vehic...|Click the \"Apply ...|                null|                null|               null| NYCHA has no resi...|2013-10-24 00:00:00|      null|2013-12-12 00:00:00|2019-12-17 00:00:00|\n",
       "|132292|NYC HOUSING AUTHO...|    Internal|            52|Maintenance Worke...|  MAINTENANCE WORKER|        90698|    0|Maintenance & Ope...|                            F|         51907.68|       54580.32|          Annual|Heating Mgt-Opera...|Management Servic...|Under direct supe...|     1. Three years of...|1.  A High School...|  1.  A Motor Vehic...|Click the \"Apply ...|                null|                null|               null| NYCHA has no resi...|2013-10-24 00:00:00|      null|2013-12-12 00:00:00|2019-12-17 00:00:00|\n",
       "|133921|NYC HOUSING AUTHO...|    Internal|            50|   Temporary Painter|             PAINTER|        91830|    0|Maintenance & Ope...|                            F|             35.0|           35.0|          Hourly|DMP-Contract & An...|Dept of Managemen...|Responsibilities ...|     1. Five years of ...|                null|  SPECIAL NOTE:    ...|Click the \"Apply ...|                null|                null|               null| NYCHA has no resi...|2014-01-09 00:00:00|      null|2014-01-08 00:00:00|2019-12-17 00:00:00|\n",
       "|133921|NYC HOUSING AUTHO...|    External|            50|   Temporary Painter|             PAINTER|        91830|    0|Maintenance & Ope...|                            F|             35.0|           35.0|          Hourly|DMP-Contract & An...|Dept of Managemen...|Responsibilities ...|     1. Five years of ...|                null|  SPECIAL NOTE:    ...|Click the \"Apply ...|                null|                null|               null| NYCHA has no resi...|2014-01-09 00:00:00|      null|2014-01-08 00:00:00|2019-12-17 00:00:00|\n",
       "|137433|DEPT OF HEALTH/ME...|    Internal|             1|    Contract Analyst| PROCUREMENT ANALYST|        12158|    3|Finance, Accounti...|                            F|          50598.0|        85053.0|          Annual|   42-09 28th Street|  HIV Administration|** OPEN TO PERMAN...|     1. A baccalaureat...|Strong analytical...|                  null|Apply online with...|                null|42-09 28th Street...|               null| New York City res...|2013-12-09 00:00:00|      null|2013-12-09 00:00:00|2019-12-17 00:00:00|\n",
       "|138531|DEPT OF ENVIRONME...|    Internal|             1|   Associate Chemist|   ASSOCIATE CHEMIST|        21822|    2|Health Public Saf...|                            F|          50623.0|        75083.0|          Annual|96-05 Horace Hard...|    DWOC Labs-Lefrak|Working in the Di...|     Qualification Req...|In order to apply...|                  null|Click the \"Apply ...|35 Hours per week...|96-05 Horace Hard...|               null| New York City res...|2013-12-20 00:00:00|      null|2014-07-25 00:00:00|2019-12-17 00:00:00|\n",
       "|151131|NYC HOUSING AUTHO...|    External|             1|Cost Estimating M...|ADMINISTRATIVE ST...|        1002D|    0|Engineering, Arch...|                            F|          90000.0|       110000.0|          Annual|CP Cap Plan-Techn...|Capital Planning ...|Reporting to the ...|     1. A master's deg...|1.  Five years of...|  SPECIAL INSTRUCTI...|Click the \"Apply ...|                null|                null|               null| NYCHA has no resi...|2014-06-25 00:00:00|      null|2014-07-07 00:00:00|2019-12-17 00:00:00|\n",
       "|152738|      LAW DEPARTMENT|    Internal|             1|      Office Manager|  CLERICAL ASSOCIATE|        10251|    3|Clerical & Admini...|                            F|          30683.0|        49707.0|          Annual|100 Church St., N.Y.|             Appeals|Performs essentia...|     Qualification Req...|Experience with L...|  Candidates must b...|Please click the ...|Monday through Fr...|                null|               null| New York City res...|2014-06-26 00:00:00|      null|2014-06-26 00:00:00|2019-12-17 00:00:00|\n",
       "+------+--------------------+------------+--------------+--------------------+--------------------+-------------+-----+--------------------+-----------------------------+-----------------+---------------+----------------+--------------------+--------------------+--------------------+-------------------------+--------------------+----------------------+--------------------+--------------------+--------------------+-------------------+---------------------+-------------------+----------+-------------------+-------------------+"
      ]
     },
     "metadata": {},
     "output_type": "display_data"
    },
    {
     "name": "stdout",
     "output_type": "stream",
     "text": [
      "Getting categorical columns\n",
      "Column: Posting Type\n",
      "Distinct Values: 2\n",
      "Top Values:\n",
      "+------------+-----+\n",
      "|Posting Type|count|\n",
      "+------------+-----+\n",
      "|Internal    |1684 |\n",
      "|External    |1262 |\n",
      "+------------+-----+\n",
      "\n",
      "Column: Full-Time/Part-Time indicator\n",
      "Distinct Values: 3\n",
      "Top Values:\n",
      "+-----------------------------+-----+\n",
      "|Full-Time/Part-Time indicator|count|\n",
      "+-----------------------------+-----+\n",
      "|F                            |2625 |\n",
      "|null                         |195  |\n",
      "|P                            |126  |\n",
      "+-----------------------------+-----+\n",
      "\n",
      "Column: Salary Frequency\n",
      "Distinct Values: 3\n",
      "Top Values:\n",
      "+----------------+-----+\n",
      "|Salary Frequency|count|\n",
      "+----------------+-----+\n",
      "|Annual          |2712 |\n",
      "|Hourly          |195  |\n",
      "|Daily           |39   |\n",
      "+----------------+-----+\n",
      "\n",
      "Column: Recruitment Contact\n",
      "Distinct Values: 1\n",
      "Top Values:\n",
      "+-------------------+-----+\n",
      "|Recruitment Contact|count|\n",
      "+-------------------+-----+\n",
      "|null               |2946 |\n",
      "+-------------------+-----+\n",
      "\n",
      "Column: Process Date\n",
      "Distinct Values: 2\n",
      "Top Values:\n",
      "+-------------------+-----+\n",
      "|Process Date       |count|\n",
      "+-------------------+-----+\n",
      "|2019-12-17 00:00:00|2942 |\n",
      "|null               |4    |\n",
      "+-------------------+-----+\n",
      "\n"
     ]
    }
   ],
   "source": [
    "main()"
   ]
  },
  {
   "cell_type": "code",
   "execution_count": null,
   "metadata": {},
   "outputs": [],
   "source": []
  }
 ],
 "metadata": {
  "kernelspec": {
   "display_name": "Python 3",
   "language": "python",
   "name": "python3"
  },
  "language_info": {
   "codemirror_mode": {
    "name": "ipython",
    "version": 3
   },
   "file_extension": ".py",
   "mimetype": "text/x-python",
   "name": "python",
   "nbconvert_exporter": "python",
   "pygments_lexer": "ipython3",
   "version": "3.7.3"
  }
 },
 "nbformat": 4,
 "nbformat_minor": 4
}
