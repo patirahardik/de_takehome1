{
 "cells": [
  {
   "cell_type": "code",
   "execution_count": 17,
   "metadata": {},
   "outputs": [],
   "source": [
    "# adding required packages\n",
    "import findspark\n",
    "import pprint\n",
    "import matplotlib.pyplot as plt"
   ]
  },
  {
   "cell_type": "code",
   "execution_count": 18,
   "metadata": {},
   "outputs": [],
   "source": [
    "# To make pyspark importable as a regular library\n",
    "findspark.init()"
   ]
  },
  {
   "cell_type": "code",
   "execution_count": 60,
   "metadata": {},
   "outputs": [],
   "source": [
    "#importing pyspark related package\n",
    "from pyspark.sql import SparkSession\n",
    "from pyspark.conf import SparkConf\n",
    "from pyspark.sql.functions import col, when, avg, round, rank, isnan, current_timestamp, date_sub, sum, desc\n",
    "from pyspark.sql.window import Window"
   ]
  },
  {
   "cell_type": "code",
   "execution_count": 57,
   "metadata": {},
   "outputs": [
    {
     "name": "stdout",
     "output_type": "stream",
     "text": [
      "Data profile Function Imported\n"
     ]
    }
   ],
   "source": [
    "%run /notebook/dataproduct/assesment_nyc_job_posting/lib/data_profiling_transform.ipynb"
   ]
  },
  {
   "cell_type": "code",
   "execution_count": 66,
   "metadata": {},
   "outputs": [
    {
     "name": "stdout",
     "output_type": "stream",
     "text": [
      "KPI Transformations Imported\n"
     ]
    }
   ],
   "source": [
    "%run /notebook/dataproduct/assesment_nyc_job_posting/lib/kpi_transform.ipynb"
   ]
  },
  {
   "cell_type": "code",
   "execution_count": 22,
   "metadata": {},
   "outputs": [
    {
     "name": "stdout",
     "output_type": "stream",
     "text": [
      "Spark Session Imported\n"
     ]
    }
   ],
   "source": [
    "%run /notebook/dataproduct/assesment_nyc_job_posting/utils/spark_session.ipynb"
   ]
  },
  {
   "cell_type": "code",
   "execution_count": 23,
   "metadata": {},
   "outputs": [],
   "source": [
    "def get_spark_conf():\n",
    "    # Configure Spark settings\n",
    "    spark_conf = SparkConf()\n",
    "    spark_conf.set(\"spark.executor.instances\", \"4\") # 4 instance per node\n",
    "\n",
    "    # Set the number of executor cores\n",
    "    spark_conf.set(\"spark.executor.cores\", \"2\")  # Use 2 cores per executor\n",
    "\n",
    "    # Set the executor memory\n",
    "    spark_conf.set(\"spark.executor.memory\", \"1g\")  # Use 1GB memory per executor\n",
    "\n",
    "    # Set the driver memory\n",
    "    spark_conf.set(\"spark.driver.memory\", \"2g\")    # Use 2GB memory for the driver\n",
    "    \n",
    "    return spark_conf"
   ]
  },
  {
   "cell_type": "markdown",
   "metadata": {},
   "source": [
    "## Creating Spark Session"
   ]
  },
  {
   "cell_type": "code",
   "execution_count": 24,
   "metadata": {},
   "outputs": [],
   "source": [
    "job_name = 'nyc_assesment'\n",
    "    \n",
    "#setting spark conf before creating spark session\n",
    "spark_conf = get_spark_conf()\n",
    "\n",
    "# Create a SparkSession with the configured settings\n",
    "spark = get_spark_session(spark_conf, job_name)\n",
    "\n",
    "# Listing all the spark conf\n",
    "spark.sparkContext.getConf().getAll()\n",
    "\n",
    "# setting spark conf for analysis\n",
    "spark.conf.set('spark.sql.repl.eagerEval.enabled',True)"
   ]
  },
  {
   "cell_type": "markdown",
   "metadata": {},
   "source": [
    "## Reading Dataset"
   ]
  },
  {
   "cell_type": "code",
   "execution_count": 25,
   "metadata": {},
   "outputs": [],
   "source": [
    "#reading dataset\n",
    "# adding escape charater after data profiling the data \n",
    "df = spark.read.csv(\"/dataset/nyc-jobs.csv\", header=True, inferSchema=True, escape='\"')"
   ]
  },
  {
   "cell_type": "code",
   "execution_count": 26,
   "metadata": {},
   "outputs": [],
   "source": [
    "# reducing the shuffle partition to 4 \n",
    "# reason 1 data size is very less\n",
    "# reason 2 to use all the availble cores\n",
    "# reason 3 Since data size is very small and can be fitted in single partition but using 4 just to show data shuffling\n",
    "spark.conf.set('spark.sql.shuffle.partitions',4)"
   ]
  },
  {
   "cell_type": "markdown",
   "metadata": {},
   "source": [
    "## Data Profiling"
   ]
  },
  {
   "cell_type": "code",
   "execution_count": 27,
   "metadata": {},
   "outputs": [
    {
     "name": "stdout",
     "output_type": "stream",
     "text": [
      "root\n",
      " |-- Job ID: integer (nullable = true)\n",
      " |-- Agency: string (nullable = true)\n",
      " |-- Posting Type: string (nullable = true)\n",
      " |-- # Of Positions: integer (nullable = true)\n",
      " |-- Business Title: string (nullable = true)\n",
      " |-- Civil Service Title: string (nullable = true)\n",
      " |-- Title Code No: string (nullable = true)\n",
      " |-- Level: string (nullable = true)\n",
      " |-- Job Category: string (nullable = true)\n",
      " |-- Full-Time/Part-Time indicator: string (nullable = true)\n",
      " |-- Salary Range From: double (nullable = true)\n",
      " |-- Salary Range To: double (nullable = true)\n",
      " |-- Salary Frequency: string (nullable = true)\n",
      " |-- Work Location: string (nullable = true)\n",
      " |-- Division/Work Unit: string (nullable = true)\n",
      " |-- Job Description: string (nullable = true)\n",
      " |-- Minimum Qual Requirements: string (nullable = true)\n",
      " |-- Preferred Skills: string (nullable = true)\n",
      " |-- Additional Information: string (nullable = true)\n",
      " |-- To Apply: string (nullable = true)\n",
      " |-- Hours/Shift: string (nullable = true)\n",
      " |-- Work Location 1: string (nullable = true)\n",
      " |-- Recruitment Contact: string (nullable = true)\n",
      " |-- Residency Requirement: string (nullable = true)\n",
      " |-- Posting Date: timestamp (nullable = true)\n",
      " |-- Post Until: timestamp (nullable = true)\n",
      " |-- Posting Updated: timestamp (nullable = true)\n",
      " |-- Process Date: timestamp (nullable = true)\n",
      "\n"
     ]
    }
   ],
   "source": [
    "#getting the schema\n",
    "df.printSchema()"
   ]
  },
  {
   "cell_type": "code",
   "execution_count": 28,
   "metadata": {},
   "outputs": [
    {
     "data": {
      "text/html": [
       "<table border='1'>\n",
       "<tr><th>Job ID</th><th>Agency</th><th>Posting Type</th><th># Of Positions</th><th>Business Title</th><th>Civil Service Title</th><th>Title Code No</th><th>Level</th><th>Job Category</th><th>Full-Time/Part-Time indicator</th><th>Salary Range From</th><th>Salary Range To</th><th>Salary Frequency</th><th>Work Location</th><th>Division/Work Unit</th><th>Job Description</th><th>Minimum Qual Requirements</th><th>Preferred Skills</th><th>Additional Information</th><th>To Apply</th><th>Hours/Shift</th><th>Work Location 1</th><th>Recruitment Contact</th><th>Residency Requirement</th><th>Posting Date</th><th>Post Until</th><th>Posting Updated</th><th>Process Date</th></tr>\n",
       "<tr><td>87990</td><td>DEPARTMENT OF BUS...</td><td>Internal</td><td>1</td><td>Account Manager</td><td>CONTRACT REVIEWER...</td><td>40563</td><td>1</td><td>null</td><td>null</td><td>42405.0</td><td>65485.0</td><td>Annual</td><td>110 William St. N Y</td><td>Strategy &amp; Analytics</td><td>Division of Econo...</td><td>1.\tA baccalaureat...</td><td>â€¢\tExcellent int...</td><td>Salary range for ...</td><td>null</td><td>null</td><td>null</td><td>null</td><td>New York City res...</td><td>2011-06-24 00:00:00</td><td>null</td><td>2011-06-24 00:00:00</td><td>2019-12-17 00:00:00</td></tr>\n",
       "<tr><td>97899</td><td>DEPARTMENT OF BUS...</td><td>Internal</td><td>1</td><td>EXECUTIVE DIRECTO...</td><td>ADMINISTRATIVE BU...</td><td>10009</td><td>M3</td><td>null</td><td>F</td><td>60740.0</td><td>162014.0</td><td>Annual</td><td>110 William St. N Y</td><td>Tech Talent Pipeline</td><td>The New York City...</td><td>1. A baccalaureat...</td><td>null</td><td>null</td><td>In addition to ap...</td><td>null</td><td>null</td><td>null</td><td>New York City res...</td><td>2012-01-26 00:00:00</td><td>null</td><td>2012-01-26 00:00:00</td><td>2019-12-17 00:00:00</td></tr>\n",
       "<tr><td>132292</td><td>NYC HOUSING AUTHO...</td><td>External</td><td>52</td><td>Maintenance Worke...</td><td>MAINTENANCE WORKER</td><td>90698</td><td>0</td><td>Maintenance &amp; Ope...</td><td>F</td><td>51907.68</td><td>54580.32</td><td>Annual</td><td>Heating Mgt-Opera...</td><td>Management Servic...</td><td>Under direct supe...</td><td>1. Three years of...</td><td>1.  A High School...</td><td>1.  A Motor Vehic...</td><td>Click the &quot;Apply ...</td><td>null</td><td>null</td><td>null</td><td>NYCHA has no resi...</td><td>2013-10-24 00:00:00</td><td>null</td><td>2013-12-12 00:00:00</td><td>2019-12-17 00:00:00</td></tr>\n",
       "<tr><td>132292</td><td>NYC HOUSING AUTHO...</td><td>Internal</td><td>52</td><td>Maintenance Worke...</td><td>MAINTENANCE WORKER</td><td>90698</td><td>0</td><td>Maintenance &amp; Ope...</td><td>F</td><td>51907.68</td><td>54580.32</td><td>Annual</td><td>Heating Mgt-Opera...</td><td>Management Servic...</td><td>Under direct supe...</td><td>1. Three years of...</td><td>1.  A High School...</td><td>1.  A Motor Vehic...</td><td>Click the &quot;Apply ...</td><td>null</td><td>null</td><td>null</td><td>NYCHA has no resi...</td><td>2013-10-24 00:00:00</td><td>null</td><td>2013-12-12 00:00:00</td><td>2019-12-17 00:00:00</td></tr>\n",
       "<tr><td>133921</td><td>NYC HOUSING AUTHO...</td><td>Internal</td><td>50</td><td>Temporary Painter</td><td>PAINTER</td><td>91830</td><td>0</td><td>Maintenance &amp; Ope...</td><td>F</td><td>35.0</td><td>35.0</td><td>Hourly</td><td>DMP-Contract &amp; An...</td><td>Dept of Managemen...</td><td>Responsibilities ...</td><td>1. Five years of ...</td><td>null</td><td>SPECIAL NOTE:    ...</td><td>Click the &quot;Apply ...</td><td>null</td><td>null</td><td>null</td><td>NYCHA has no resi...</td><td>2014-01-09 00:00:00</td><td>null</td><td>2014-01-08 00:00:00</td><td>2019-12-17 00:00:00</td></tr>\n",
       "<tr><td>133921</td><td>NYC HOUSING AUTHO...</td><td>External</td><td>50</td><td>Temporary Painter</td><td>PAINTER</td><td>91830</td><td>0</td><td>Maintenance &amp; Ope...</td><td>F</td><td>35.0</td><td>35.0</td><td>Hourly</td><td>DMP-Contract &amp; An...</td><td>Dept of Managemen...</td><td>Responsibilities ...</td><td>1. Five years of ...</td><td>null</td><td>SPECIAL NOTE:    ...</td><td>Click the &quot;Apply ...</td><td>null</td><td>null</td><td>null</td><td>NYCHA has no resi...</td><td>2014-01-09 00:00:00</td><td>null</td><td>2014-01-08 00:00:00</td><td>2019-12-17 00:00:00</td></tr>\n",
       "<tr><td>137433</td><td>DEPT OF HEALTH/ME...</td><td>Internal</td><td>1</td><td>Contract Analyst</td><td>PROCUREMENT ANALYST</td><td>12158</td><td>3</td><td>Finance, Accounti...</td><td>F</td><td>50598.0</td><td>85053.0</td><td>Annual</td><td>42-09 28th Street</td><td>HIV Administration</td><td>** OPEN TO PERMAN...</td><td>1. A baccalaureat...</td><td>Strong analytical...</td><td>null</td><td>Apply online with...</td><td>null</td><td>42-09 28th Street...</td><td>null</td><td>New York City res...</td><td>2013-12-09 00:00:00</td><td>null</td><td>2013-12-09 00:00:00</td><td>2019-12-17 00:00:00</td></tr>\n",
       "<tr><td>138531</td><td>DEPT OF ENVIRONME...</td><td>Internal</td><td>1</td><td>Associate Chemist</td><td>ASSOCIATE CHEMIST</td><td>21822</td><td>2</td><td>Health Public Saf...</td><td>F</td><td>50623.0</td><td>75083.0</td><td>Annual</td><td>96-05 Horace Hard...</td><td>DWOC Labs-Lefrak</td><td>Working in the Di...</td><td>Qualification Req...</td><td>In order to apply...</td><td>null</td><td>Click the &quot;Apply ...</td><td>35 Hours per week...</td><td>96-05 Horace Hard...</td><td>null</td><td>New York City res...</td><td>2013-12-20 00:00:00</td><td>null</td><td>2014-07-25 00:00:00</td><td>2019-12-17 00:00:00</td></tr>\n",
       "<tr><td>151131</td><td>NYC HOUSING AUTHO...</td><td>External</td><td>1</td><td>Cost Estimating M...</td><td>ADMINISTRATIVE ST...</td><td>1002D</td><td>0</td><td>Engineering, Arch...</td><td>F</td><td>90000.0</td><td>110000.0</td><td>Annual</td><td>CP Cap Plan-Techn...</td><td>Capital Planning ...</td><td>Reporting to the ...</td><td>1. A master&#x27;s deg...</td><td>1.  Five years of...</td><td>SPECIAL INSTRUCTI...</td><td>Click the &quot;Apply ...</td><td>null</td><td>null</td><td>null</td><td>NYCHA has no resi...</td><td>2014-06-25 00:00:00</td><td>null</td><td>2014-07-07 00:00:00</td><td>2019-12-17 00:00:00</td></tr>\n",
       "<tr><td>152738</td><td>LAW DEPARTMENT</td><td>Internal</td><td>1</td><td>Office Manager</td><td>CLERICAL ASSOCIATE</td><td>10251</td><td>3</td><td>Clerical &amp; Admini...</td><td>F</td><td>30683.0</td><td>49707.0</td><td>Annual</td><td>100 Church St., N.Y.</td><td>Appeals</td><td>Performs essentia...</td><td>Qualification Req...</td><td>Experience with L...</td><td>Candidates must b...</td><td>Please click the ...</td><td>Monday through Fr...</td><td>null</td><td>null</td><td>New York City res...</td><td>2014-06-26 00:00:00</td><td>null</td><td>2014-06-26 00:00:00</td><td>2019-12-17 00:00:00</td></tr>\n",
       "</table>\n"
      ],
      "text/plain": [
       "+------+--------------------+------------+--------------+--------------------+--------------------+-------------+-----+--------------------+-----------------------------+-----------------+---------------+----------------+-------------------+--------------------+--------------------+-------------------------+--------------------+----------------------+--------------------+--------------------+--------------------+-------------------+---------------------+-------------------+-------------------+-------------------+-------------------+\n",
       "|Job ID|              Agency|Posting Type|# Of Positions|      Business Title| Civil Service Title|Title Code No|Level|        Job Category|Full-Time/Part-Time indicator|Salary Range From|Salary Range To|Salary Frequency|      Work Location|  Division/Work Unit|     Job Description|Minimum Qual Requirements|    Preferred Skills|Additional Information|            To Apply|         Hours/Shift|     Work Location 1|Recruitment Contact|Residency Requirement|       Posting Date|         Post Until|    Posting Updated|       Process Date|\n",
       "+------+--------------------+------------+--------------+--------------------+--------------------+-------------+-----+--------------------+-----------------------------+-----------------+---------------+----------------+-------------------+--------------------+--------------------+-------------------------+--------------------+----------------------+--------------------+--------------------+--------------------+-------------------+---------------------+-------------------+-------------------+-------------------+-------------------+\n",
       "|405765|HUMAN RIGHTS COMM...|    External|             1|Associate Human R...|ASSOCIATE HUMAN R...|        55038|    1|Constituent Servi...|                            F|          56746.0|        56746.0|          Annual|    22 Reade St, Ny|Comm.Rel.Bureau-C...|The Commission on...|     1. A baccalaureat...|â€¢\tAdvanced work...|                  null|For City employee...|DAY, 9-5; ON OCCA...|     22 Reade St, Ny|               null| New York City res...|2019-08-13 00:00:00|               null|2019-10-29 00:00:00|2019-12-17 00:00:00|\n",
       "|405778|DEPARTMENT OF INV...|    External|             1|Confidential Inve...|CONFIDENTIAL INVE...|        31143|    1|Public Safety, In...|                            F|          43799.0|        55000.0|          Annual|     80 Maiden Lane|             Default|The New York City...|     1. A four-year hi...|1.\tDemonstrated i...|                  null|All current City ...|                null|                null|               null| New York City res...|2019-08-13 00:00:00|               null|2019-10-04 00:00:00|2019-12-17 00:00:00|\n",
       "|405778|DEPARTMENT OF INV...|    Internal|             1|Confidential Inve...|CONFIDENTIAL INVE...|        31143|    1|Public Safety, In...|                            F|          43799.0|        55000.0|          Annual|     80 Maiden Lane|             Default|The New York City...|     1. A four-year hi...|1.\tDemonstrated i...|                  null|All current City ...|                null|                null|               null| New York City res...|2019-08-13 00:00:00|               null|2019-10-04 00:00:00|2019-12-17 00:00:00|\n",
       "|405789|DEPARTMENT OF INV...|    External|             1|Assistant Inspect...|CONFIDENTIAL INVE...|        31143|    3|Public Safety, In...|                            F|          62360.0|        85000.0|          Annual|     80 Maiden Lane|             Default|The New York City...|     1. A four-year hi...|1.\tDemonstrated i...|                  null|All current City ...|                null|                null|               null| New York City res...|2019-08-13 00:00:00|               null|2019-10-04 00:00:00|2019-12-17 00:00:00|\n",
       "|405789|DEPARTMENT OF INV...|    Internal|             1|Assistant Inspect...|CONFIDENTIAL INVE...|        31143|    3|Public Safety, In...|                            F|          62360.0|        85000.0|          Annual|     80 Maiden Lane|             Default|The New York City...|     1. A four-year hi...|1.\tDemonstrated i...|                  null|All current City ...|                null|                null|               null| New York City res...|2019-08-13 00:00:00|               null|2019-10-04 00:00:00|2019-12-17 00:00:00|\n",
       "|405795|DEPARTMENT OF TRA...|    External|            15|        Marine Oiler|MARINE OILER(FERR...|        91547|    0|Building Operatio...|                            F|          49705.0|        57161.0|          Annual| 1 Bay St., S.I.,Ny|F&Ga Marine Oiler...|Under direct supe...|     1. Two years of f...|                null|  MEDICAL/DRUG TEST...|Please visit www....|32 hours/variable...|1 Bay Street, Sta...|               null| New York City res...|2019-08-29 00:00:00|               null|2019-08-29 00:00:00|2019-12-17 00:00:00|\n",
       "|405795|DEPARTMENT OF TRA...|    Internal|            15|        Marine Oiler|MARINE OILER(FERR...|        91547|    0|Building Operatio...|                            F|          49705.0|        57161.0|          Annual| 1 Bay St., S.I.,Ny|F&Ga Marine Oiler...|Under direct supe...|     1. Two years of f...|                null|  MEDICAL/DRUG TEST...|Please visit www....|32 hours/variable...|1 Bay Street, Sta...|               null| New York City res...|2019-08-29 00:00:00|               null|2019-08-29 00:00:00|2019-12-17 00:00:00|\n",
       "|405824|DEPARTMENT OF INV...|    External|             2|Confidential Inve...|CONFIDENTIAL INVE...|        31143|    2|Public Safety, In...|                            F|          52384.0|        65000.0|          Annual|    180 Maiden Lane|             Default|The New York City...|     1. A four-year hi...|1.   1-3 years co...|                  null|All current City ...|                null|                null|               null| New York City res...|2019-08-14 00:00:00|2020-02-10 00:00:00|2019-12-13 00:00:00|2019-12-17 00:00:00|\n",
       "|405824|DEPARTMENT OF INV...|    Internal|             2|Confidential Inve...|CONFIDENTIAL INVE...|        31143|    2|Public Safety, In...|                            F|          52384.0|        65000.0|          Annual|    180 Maiden Lane|             Default|The New York City...|     1. A four-year hi...|1.   1-3 years co...|                  null|All current City ...|                null|                null|               null| New York City res...|2019-08-14 00:00:00|2020-02-10 00:00:00|2019-12-13 00:00:00|2019-12-17 00:00:00|\n",
       "|405834|DEPARTMENT OF BUS...|    External|             1|PROGRAM MANAGER, ...|COMMUNITY COORDIN...|        56058|    0|Constituent Servi...|                            F|          52524.0|        68000.0|          Annual|110 William St. N Y|Neighborhood Deve...|The Neighborhood ...|     1. A baccalaureat...|â€¢A masterâ€™s d...|                  null|Please email your...|                null|                null|               null| New York City res...|2019-11-01 00:00:00|               null|2019-11-01 00:00:00|2019-12-17 00:00:00|\n",
       "+------+--------------------+------------+--------------+--------------------+--------------------+-------------+-----+--------------------+-----------------------------+-----------------+---------------+----------------+-------------------+--------------------+--------------------+-------------------------+--------------------+----------------------+--------------------+--------------------+--------------------+-------------------+---------------------+-------------------+-------------------+-------------------+-------------------+"
      ]
     },
     "metadata": {},
     "output_type": "display_data"
    }
   ],
   "source": [
    "## Display the first few rows of the DataFrame\n",
    "display(df.limit(10))"
   ]
  },
  {
   "cell_type": "code",
   "execution_count": 29,
   "metadata": {},
   "outputs": [
    {
     "name": "stdout",
     "output_type": "stream",
     "text": [
      "Total Records: 2946\n"
     ]
    }
   ],
   "source": [
    "# Getting counts\n",
    "total_count = df.count()\n",
    "print(f\"Total Records: {total_count}\")"
   ]
  },
  {
   "cell_type": "code",
   "execution_count": 30,
   "metadata": {},
   "outputs": [
    {
     "name": "stdout",
     "output_type": "stream",
     "text": [
      "Total Records after removing duplicates: 2915\n"
     ]
    }
   ],
   "source": [
    "# Dropping duplicates\n",
    "df = df.distinct()\n",
    "dist_tot_cnt = df.count()\n",
    "print(f\"Total Records after removing duplicates: {dist_tot_cnt}\")"
   ]
  },
  {
   "cell_type": "code",
   "execution_count": 73,
   "metadata": {},
   "outputs": [
    {
     "name": "stdout",
     "output_type": "stream",
     "text": [
      "Getting missing value counts\n",
      "-RECORD 0-------------------------------------\n",
      " Job ID_missing                        | 0    \n",
      " Agency_missing                        | 0    \n",
      " Posting Type_missing                  | 0    \n",
      " # Of Positions_missing                | 0    \n",
      " Business Title_missing                | 0    \n",
      " Civil Service Title_missing           | 0    \n",
      " Title Code No_missing                 | 0    \n",
      " Level_missing                         | 0    \n",
      " Job Category_missing                  | 2    \n",
      " Full-Time/Part-Time indicator_missing | 193  \n",
      " Salary Range From_missing             | 0    \n",
      " Salary Range To_missing               | 0    \n",
      " Salary Frequency_missing              | 0    \n",
      " Work Location_missing                 | 0    \n",
      " Division/Work Unit_missing            | 0    \n",
      " Job Description_missing               | 0    \n",
      " Minimum Qual Requirements_missing     | 20   \n",
      " Preferred Skills_missing              | 387  \n",
      " Additional Information_missing        | 1087 \n",
      " To Apply_missing                      | 1    \n",
      " Hours/Shift_missing                   | 2039 \n",
      " Work Location 1_missing               | 1578 \n",
      " Recruitment Contact_missing           | 2915 \n",
      " Residency Requirement_missing         | 4    \n",
      " Posting Date_missing                  | 4    \n",
      " Post Until_missing                    | 2052 \n",
      " Posting Updated_missing               | 4    \n",
      " Process Date_missing                  | 4    \n",
      "\n"
     ]
    }
   ],
   "source": [
    "print(\"Getting missing value counts\")\n",
    "missing_value_counts = calculate_missing_value_counts(df)\n",
    "missing_value_counts.show(vertical=True)"
   ]
  },
  {
   "cell_type": "code",
   "execution_count": 32,
   "metadata": {},
   "outputs": [
    {
     "name": "stdout",
     "output_type": "stream",
     "text": [
      "Getting numerical status\n"
     ]
    },
    {
     "data": {
      "text/html": [
       "<table border='1'>\n",
       "<tr><th>summary</th><th>Job ID</th><th># Of Positions</th><th>Salary Range From</th><th>Salary Range To</th></tr>\n",
       "<tr><td>mean</td><td>384863.0401372213</td><td>2.4363636363636365</td><td>58925.98743831904</td><td>85653.82161382504</td></tr>\n",
       "<tr><td>stddev</td><td>53017.48027901089</td><td>8.58105496276755</td><td>27018.915415806176</td><td>42923.02678547604</td></tr>\n",
       "<tr><td>min</td><td>87990</td><td>1</td><td>0.0</td><td>10.36</td></tr>\n",
       "<tr><td>max</td><td>426238</td><td>200</td><td>218587.0</td><td>234402.0</td></tr>\n",
       "</table>\n"
      ],
      "text/plain": [
       "+-------+-----------------+------------------+------------------+-----------------+\n",
       "|summary|           Job ID|    # Of Positions| Salary Range From|  Salary Range To|\n",
       "+-------+-----------------+------------------+------------------+-----------------+\n",
       "|   mean|384863.0401372213|2.4363636363636365| 58925.98743831904|85653.82161382504|\n",
       "| stddev|53017.48027901089|  8.58105496276755|27018.915415806176|42923.02678547604|\n",
       "|    min|            87990|                 1|               0.0|            10.36|\n",
       "|    max|           426238|               200|          218587.0|         234402.0|\n",
       "+-------+-----------------+------------------+------------------+-----------------+"
      ]
     },
     "metadata": {},
     "output_type": "display_data"
    }
   ],
   "source": [
    "print(\"Getting numerical status\")\n",
    "numerical_columns = [col_name for col_name, col_type in df.dtypes if col_type in [\"int\", \"double\", \"float\"]]\n",
    "summary_stats = calculate_summary_stats(df, numerical_columns)\n",
    "display(summary_stats)"
   ]
  },
  {
   "cell_type": "code",
   "execution_count": 33,
   "metadata": {
    "scrolled": false
   },
   "outputs": [
    {
     "name": "stdout",
     "output_type": "stream",
     "text": [
      "Getting categorical columns\n",
      "Column: Posting Type\n",
      "Distinct Values: 2\n",
      "Top Values:\n",
      "+------------+-----+\n",
      "|Posting Type|count|\n",
      "+------------+-----+\n",
      "|Internal    |1653 |\n",
      "|External    |1262 |\n",
      "+------------+-----+\n",
      "\n"
     ]
    },
    {
     "data": {
      "text/plain": [
       "<Figure size 576x432 with 0 Axes>"
      ]
     },
     "metadata": {},
     "output_type": "display_data"
    },
    {
     "data": {
      "image/png": "[encoded data removed]",
      "text/plain": [
       "<Figure size 432x288 with 1 Axes>"
      ]
     },
     "metadata": {},
     "output_type": "display_data"
    },
    {
     "name": "stdout",
     "output_type": "stream",
     "text": [
      "Column: Full-Time/Part-Time indicator\n",
      "Distinct Values: 3\n",
      "Top Values:\n",
      "+-----------------------------+-----+\n",
      "|Full-Time/Part-Time indicator|count|\n",
      "+-----------------------------+-----+\n",
      "|F                            |2597 |\n",
      "|null                         |193  |\n",
      "|P                            |125  |\n",
      "+-----------------------------+-----+\n",
      "\n"
     ]
    },
    {
     "data": {
      "text/plain": [
       "<Figure size 576x432 with 0 Axes>"
      ]
     },
     "metadata": {},
     "output_type": "display_data"
    },
    {
     "data": {
      "image/png": "[encoded data removed]",
      "text/plain": [
       "<Figure size 432x288 with 1 Axes>"
      ]
     },
     "metadata": {},
     "output_type": "display_data"
    },
    {
     "name": "stdout",
     "output_type": "stream",
     "text": [
      "Column: Salary Frequency\n",
      "Distinct Values: 3\n",
      "Top Values:\n",
      "+----------------+-----+\n",
      "|Salary Frequency|count|\n",
      "+----------------+-----+\n",
      "|Annual          |2683 |\n",
      "|Hourly          |194  |\n",
      "|Daily           |38   |\n",
      "+----------------+-----+\n",
      "\n"
     ]
    },
    {
     "data": {
      "text/plain": [
       "<Figure size 576x432 with 0 Axes>"
      ]
     },
     "metadata": {},
     "output_type": "display_data"
    },
    {
     "data": {
      "image/png": "[encoded data removed]",
      "text/plain": [
       "<Figure size 432x288 with 1 Axes>"
      ]
     },
     "metadata": {},
     "output_type": "display_data"
    },
    {
     "name": "stdout",
     "output_type": "stream",
     "text": [
      "Column: Recruitment Contact\n",
      "Distinct Values: 1\n",
      "Top Values:\n",
      "+-------------------+-----+\n",
      "|Recruitment Contact|count|\n",
      "+-------------------+-----+\n",
      "|null               |2915 |\n",
      "+-------------------+-----+\n",
      "\n"
     ]
    },
    {
     "data": {
      "text/plain": [
       "<Figure size 576x432 with 0 Axes>"
      ]
     },
     "metadata": {},
     "output_type": "display_data"
    },
    {
     "data": {
      "image/png": "[encoded data removed]",
      "text/plain": [
       "<Figure size 432x288 with 1 Axes>"
      ]
     },
     "metadata": {},
     "output_type": "display_data"
    },
    {
     "name": "stdout",
     "output_type": "stream",
     "text": [
      "Column: Process Date\n",
      "Distinct Values: 2\n",
      "Top Values:\n",
      "+-------------------+-----+\n",
      "|Process Date       |count|\n",
      "+-------------------+-----+\n",
      "|2019-12-17 00:00:00|2911 |\n",
      "|null               |4    |\n",
      "+-------------------+-----+\n",
      "\n"
     ]
    },
    {
     "data": {
      "text/plain": [
       "<Figure size 576x432 with 0 Axes>"
      ]
     },
     "metadata": {},
     "output_type": "display_data"
    },
    {
     "data": {
      "image/png": "[encoded data removed]",
      "text/plain": [
       "<Figure size 432x288 with 1 Axes>"
      ]
     },
     "metadata": {},
     "output_type": "display_data"
    }
   ],
   "source": [
    "print(\"Getting categorical columns\") \n",
    "# Most of the time categorical column should be string type but for this analysis -\n",
    "# assuming that categorical columns can be any type.\n",
    "distinct_threshold=10\n",
    "for col_name in df.columns:\n",
    "    is_categorical_cond, distinct_values, top_values = profile_categorical_column(df, col_name)\n",
    "    if is_categorical_cond:\n",
    "        print(f\"Column: {col_name}\")\n",
    "        print(f\"Distinct Values: {distinct_values}\")\n",
    "        print(\"Top Values:\")\n",
    "        top_values.show(truncate=False)\n",
    "        pandas_df = top_values.toPandas()\n",
    "        # Plot the pie chart using Pandas\n",
    "        plt.figure(figsize=(8, 6))\n",
    "        pandas_df.plot.pie(y=\"count\", labels=pandas_df[f\"{col_name}\"], autopct=\"%1.1f%%\", startangle=140)\n",
    "        plt.axis(\"equal\")\n",
    "        plt.title(f\"{col_name} Distribution\")\n",
    "        plt.show();\n"
   ]
  },
  {
   "cell_type": "markdown",
   "metadata": {},
   "source": [
    "## Data Preparation"
   ]
  },
  {
   "cell_type": "code",
   "execution_count": 38,
   "metadata": {},
   "outputs": [
    {
     "name": "stdout",
     "output_type": "stream",
     "text": [
      "Preparing Data for KPI\n"
     ]
    }
   ],
   "source": [
    "print(\"Preparing Data for KPI\")\n",
    "\n",
    "# Normalizing the salary to annual level\n",
    "kpi_pre_df = df.withColumn(\"Annual Salary From\",\n",
    "                   when(col(\"Salary Frequency\") == \"Hourly\", col(\"Salary Range From\") * 2080)  # Assuming 2080 work hours per year\n",
    "                   .when(col(\"Salary Frequency\") == \"Weekly\", col(\"Salary Range From\") * 52)\n",
    "                   .when(col(\"Salary Frequency\") == \"Daily\", col(\"Salary Range From\") * 260)  # Assuming 5 workdays per week\n",
    "                   .otherwise(col(\"Salary Range From\")))\n",
    "\n",
    "kpi_df = kpi_pre_df.withColumn(\"Annual Salary To\",\n",
    "                   when(col(\"Salary Frequency\") == \"Hourly\", col(\"Salary Range To\") * 2080)\n",
    "                   .when(col(\"Salary Frequency\") == \"Weekly\", col(\"Salary Range To\") * 52)\n",
    "                   .when(col(\"Salary Frequency\") == \"Daily\", col(\"Salary Range To\") * 260)\n",
    "                   .otherwise(col(\"Salary Range To\")))\n",
    "\n"
   ]
  },
  {
   "cell_type": "markdown",
   "metadata": {},
   "source": [
    "## Generating KPIs"
   ]
  },
  {
   "cell_type": "code",
   "execution_count": 61,
   "metadata": {},
   "outputs": [
    {
     "name": "stdout",
     "output_type": "stream",
     "text": [
      "Top 10 jobs posting per category\n",
      "+-----------------------------------------+--------------+\n",
      "|Job Category                             |No_Of_Position|\n",
      "+-----------------------------------------+--------------+\n",
      "|Building Operations & Maintenance        |1234          |\n",
      "|Public Safety, Inspections, & Enforcement|1205          |\n",
      "|Engineering, Architecture, & Planning    |755           |\n",
      "|Legal Affairs                            |513           |\n",
      "|Technology, Data & Innovation            |404           |\n",
      "|Health                                   |358           |\n",
      "|Administration & Human Resources         |321           |\n",
      "|Finance, Accounting, & Procurement       |274           |\n",
      "|Maintenance & Operations                 |212           |\n",
      "|Policy, Research & Analysis              |200           |\n",
      "+-----------------------------------------+--------------+\n",
      "\n"
     ]
    }
   ],
   "source": [
    "print(\"Top 10 jobs posting per category\")\n",
    "category_counts = get_top10_job_posting_per_cat(kpi_df)\n",
    "category_counts.show(truncate=False)"
   ]
  },
  {
   "cell_type": "code",
   "execution_count": 44,
   "metadata": {},
   "outputs": [
    {
     "name": "stdout",
     "output_type": "stream",
     "text": [
      "The salary distribution per job category\n",
      "-RECORD 0------------------------------------------------------------------------------------------------------------------------------------------------------\n",
      " Job Category  | null                                                                                                                                          \n",
      " AvgSalaryFrom | 51572.5                                                                                                                                       \n",
      " AvgSalaryTo   | 113749.5                                                                                                                                      \n",
      "-RECORD 1------------------------------------------------------------------------------------------------------------------------------------------------------\n",
      " Job Category  | Administration & Human Resources                                                                                                              \n",
      " AvgSalaryFrom | 48301.1                                                                                                                                       \n",
      " AvgSalaryTo   | 69774.59                                                                                                                                      \n",
      "-RECORD 2------------------------------------------------------------------------------------------------------------------------------------------------------\n",
      " Job Category  | Administration & Human Resources Building Operations & Maintenance                                                                            \n",
      " AvgSalaryFrom | 50770.29                                                                                                                                      \n",
      " AvgSalaryTo   | 72091.14                                                                                                                                      \n",
      "-RECORD 3------------------------------------------------------------------------------------------------------------------------------------------------------\n",
      " Job Category  | Administration & Human Resources Building Operations & Maintenance Policy, Research & Analysis                                                \n",
      " AvgSalaryFrom | 54100.0                                                                                                                                       \n",
      " AvgSalaryTo   | 83981.0                                                                                                                                       \n",
      "-RECORD 4------------------------------------------------------------------------------------------------------------------------------------------------------\n",
      " Job Category  | Administration & Human Resources Communications & Intergovernmental Affairs                                                                   \n",
      " AvgSalaryFrom | 37251.0                                                                                                                                       \n",
      " AvgSalaryTo   | 58478.0                                                                                                                                       \n",
      "-RECORD 5------------------------------------------------------------------------------------------------------------------------------------------------------\n",
      " Job Category  | Administration & Human Resources Communications & Intergovernmental Affairs Engineering, Architecture, & Planning Policy, Research & Analysis \n",
      " AvgSalaryFrom | 90000.0                                                                                                                                       \n",
      " AvgSalaryTo   | 100000.0                                                                                                                                      \n",
      "-RECORD 6------------------------------------------------------------------------------------------------------------------------------------------------------\n",
      " Job Category  | Administration & Human Resources Communications & Intergovernmental Affairs Health Public Safety, Inspections, & Enforcement                  \n",
      " AvgSalaryFrom | 65374.0                                                                                                                                       \n",
      " AvgSalaryTo   | 98908.0                                                                                                                                       \n",
      "-RECORD 7------------------------------------------------------------------------------------------------------------------------------------------------------\n",
      " Job Category  | Administration & Human Resources Communications & Intergovernmental Affairs Legal Affairs Policy, Research & Analysis                         \n",
      " AvgSalaryFrom | 79620.0                                                                                                                                       \n",
      " AvgSalaryTo   | 91563.0                                                                                                                                       \n",
      "-RECORD 8------------------------------------------------------------------------------------------------------------------------------------------------------\n",
      " Job Category  | Administration & Human Resources Communications & Intergovernmental Affairs Public Safety, Inspections, & Enforcement                         \n",
      " AvgSalaryFrom | 31573.0                                                                                                                                       \n",
      " AvgSalaryTo   | 36309.0                                                                                                                                       \n",
      "-RECORD 9------------------------------------------------------------------------------------------------------------------------------------------------------\n",
      " Job Category  | Administration & Human Resources Constituent Services & Community Programs                                                                    \n",
      " AvgSalaryFrom | 90000.0                                                                                                                                       \n",
      " AvgSalaryTo   | 92000.0                                                                                                                                       \n",
      "\n"
     ]
    }
   ],
   "source": [
    "print(\"The salary distribution per job category\")\n",
    "salary_distribution = get_sal_dist_per_cat(kpi_df)\n",
    "salary_distribution.limit(10).show(truncate=False,vertical=True)"
   ]
  },
  {
   "cell_type": "code",
   "execution_count": 67,
   "metadata": {},
   "outputs": [
    {
     "name": "stdout",
     "output_type": "stream",
     "text": [
      "The job posting having the highest salary per agency\n",
      "+------------------------------+------------------------------------------------------------+--------------+\n",
      "|Agency                        |Business Title                                              |Highest Salary|\n",
      "+------------------------------+------------------------------------------------------------+--------------+\n",
      "|DEPARTMENT OF BUILDINGS       |Borough Enforcement Attorney                                |82137.0       |\n",
      "|DEPARTMENT OF FINANCE         |Senior Director                                             |140000.0      |\n",
      "|DEPT. OF HOMELESS SERVICES    |DHS OVERDOSE PREVENTION COORDINATOR                         |92001.0       |\n",
      "|FIRE DEPARTMENT               |Senior Enterprise Applications Integration Developer        |144929.0      |\n",
      "|HOUSING PRESERVATION & DVLPMNT|Assistant Commissioner of Community Partnerships and Finance|140000.0      |\n",
      "|HRA/DEPT OF SOCIAL SERVICES   |EXECUTIVE DIRECTOR, SERVER INFRASTRUCTURE - BUILD           |153017.0      |\n",
      "|OFFICE OF MANAGEMENT & BUDGET |Deputy Assistant Director  SOCIAL SERVICES                  |117810.0      |\n",
      "|TEACHERS RETIREMENT SYSTEM    |AGENCY ATTORNEY INTERNE                                     |75760.0       |\n",
      "|BOROUGH PRESIDENT-QUEENS      |Engineering                                                 |95270.0       |\n",
      "|CONFLICTS OF INTEREST BOARD   |DIRECTOR OF ENFORCEMENT                                     |170000.0      |\n",
      "|DEPARTMENT FOR THE AGING      |Project Manager (Per-Diem)                                  |179233.18     |\n",
      "|DEPARTMENT OF CITY PLANNING   |Senior Director of Application Development Practices        |135000.0      |\n",
      "|DEPARTMENT OF TRANSPORTATION  |Director of Facilities Maintenance                          |156829.0      |\n",
      "|DEPT OF DESIGN & CONSTRUCTION |Associate Commissioner                                      |217244.0      |\n",
      "|DEPT OF HEALTH/MENTAL HYGIENE |Deputy Commissioner, Family & Child Health                  |225217.0      |\n",
      "|DEPT OF INFO TECH & TELECOMM  |Associate Commissioner, IT Operations                       |189000.0      |\n",
      "|EQUAL EMPLOY PRACTICES COMM   |Director of Learning and Development                        |72712.0       |\n",
      "|NYC DEPT OF VETERANS' SERVICES|Director of Housing Initiatives                             |92001.0       |\n",
      "|OFF OF PAYROLL ADMINISTRATION |Business Analyst                                            |115000.0      |\n",
      "|PRESIDENT BOROUGH OF MANHATTAN|Special Counsel, Legal/Land Use                             |120000.0      |\n",
      "+------------------------------+------------------------------------------------------------+--------------+\n",
      "only showing top 20 rows\n",
      "\n"
     ]
    }
   ],
   "source": [
    "print(\"The job posting having the highest salary per agency\")\n",
    "max_sal_per_agency_df = get_highes_sal_per_cat(kpi_df)\n",
    "max_sal_per_agency_df.show(truncate=False)"
   ]
  },
  {
   "cell_type": "code",
   "execution_count": 72,
   "metadata": {},
   "outputs": [
    {
     "name": "stdout",
     "output_type": "stream",
     "text": [
      "The average salary per agency for the last 2 years\n",
      "+------------------------------+----------------------+--------------------+\n",
      "|Agency                        |Avg_Annual_Salary_From|Avg_Annual_Salary_To|\n",
      "+------------------------------+----------------------+--------------------+\n",
      "|FIRE DEPARTMENT               |79965.98              |93000.73            |\n",
      "|OFFICE OF MANAGEMENT & BUDGET |67435.17              |79186.17            |\n",
      "|HOUSING PRESERVATION & DVLPMNT|74863.93              |85905.52            |\n",
      "|DEPARTMENT OF FINANCE         |68758.75              |90428.92            |\n",
      "|HRA/DEPT OF SOCIAL SERVICES   |62180.88              |86805.46            |\n",
      "|DEPT. OF HOMELESS SERVICES    |39082.0               |55301.67            |\n",
      "|DEPARTMENT OF BUILDINGS       |45581.47              |55310.6             |\n",
      "|TEACHERS RETIREMENT SYSTEM    |62397.0               |75760.0             |\n",
      "|DEPT OF HEALTH/MENTAL HYGIENE |61872.37              |79865.25            |\n",
      "|DEPT OF INFO TECH & TELECOMM  |63972.87              |113790.33           |\n",
      "|DEPARTMENT FOR THE AGING      |56502.89              |77962.76            |\n",
      "|DEPT OF DESIGN & CONSTRUCTION |60766.63              |121572.05           |\n",
      "|OFF OF PAYROLL ADMINISTRATION |48330.36              |72319.36            |\n",
      "|DEPARTMENT OF CITY PLANNING   |69341.0               |80199.64            |\n",
      "|DEPARTMENT OF TRANSPORTATION  |53739.58              |83712.79            |\n",
      "|BOROUGH PRESIDENT-QUEENS      |37217.0               |61936.0             |\n",
      "|PRESIDENT BOROUGH OF MANHATTAN|55000.0               |55000.0             |\n",
      "|NYC DEPT OF VETERANS' SERVICES|73305.0               |92001.0             |\n",
      "|EQUAL EMPLOY PRACTICES COMM   |58664.0               |67463.5             |\n",
      "|CONFLICTS OF INTEREST BOARD   |100000.0              |170000.0            |\n",
      "+------------------------------+----------------------+--------------------+\n",
      "only showing top 20 rows\n",
      "\n"
     ]
    }
   ],
   "source": [
    "#KPI5: Whats the job positings average salary per agency for the last 2 years\n",
    "print(\"The average salary per agency for the last 2 years\")\n",
    "last_n_year = 4\n",
    "avg_salary_df = get_avg_sal_per_agency_last_n_year(kpi_df,last_n_year)\n",
    "avg_salary_df.show(truncate=False)"
   ]
  },
  {
   "cell_type": "code",
   "execution_count": 74,
   "metadata": {},
   "outputs": [],
   "source": [
    "spark.stop()"
   ]
  },
  {
   "cell_type": "code",
   "execution_count": null,
   "metadata": {},
   "outputs": [],
   "source": []
  }
 ],
 "metadata": {
  "kernelspec": {
   "display_name": "Python 3",
   "language": "python",
   "name": "python3"
  },
  "language_info": {
   "codemirror_mode": {
    "name": "ipython",
    "version": 3
   },
   "file_extension": ".py",
   "mimetype": "text/x-python",
   "name": "python",
   "nbconvert_exporter": "python",
   "pygments_lexer": "ipython3",
   "version": "3.7.3"
  }
 },
 "nbformat": 4,
 "nbformat_minor": 4
}
